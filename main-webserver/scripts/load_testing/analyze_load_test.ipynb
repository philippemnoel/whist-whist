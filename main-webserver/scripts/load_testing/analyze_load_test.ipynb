{
 "cells": [
  {
   "cell_type": "code",
   "execution_count": 1,
   "metadata": {},
   "outputs": [],
   "source": [
    "import os\n",
    "import json\n",
    "import time\n",
    "\n",
    "import matplotlib.pyplot as plt\n",
    "import pandas as pd\n",
    "import numpy as np\n",
    "from selenium import webdriver\n",
    "from webdriver_manager.chrome import ChromeDriverManager\n"
   ]
  },
  {
   "cell_type": "code",
   "execution_count": 2,
   "metadata": {},
   "outputs": [],
   "source": [
    "TYPE = \"local\" # can either by local or distributed"
   ]
  },
  {
   "cell_type": "code",
   "execution_count": 3,
   "metadata": {},
   "outputs": [],
   "source": [
    "def print_stats(data):\n",
    "    print(f\"min: {np.min(data)}\")\n",
    "    print(f\"max: {np.max(data)}\")\n",
    "    print(f\"mean: {np.mean(data)}\")\n",
    "    print(f\"stdev: {np.std(data)}\")"
   ]
  },
  {
   "cell_type": "markdown",
   "metadata": {},
   "source": [
    "# Analyze server Celery side\n",
    "\n",
    "We use flower as a no-code way to monitor celery task execution. See README for more details. Flower renders a nice table of stats at http://localhost:5555/ for us to analyze. The below code just parses it as a pandas DataFrame."
   ]
  },
  {
   "cell_type": "code",
   "execution_count": 4,
   "metadata": {},
   "outputs": [],
   "source": [
    "# start flower by navigating to root of webserver and running\n",
    "# export REDIS_URL=<REDIS URL FOR REVIEW APP>\n",
    "# celery --app celery_worker.celery_instance flower\n",
    "# THIS MUST BE DONE BEFORE LOAD TEST STARTS\n",
    "url = \"http://localhost:5555/tasks\""
   ]
  },
  {
   "cell_type": "code",
   "execution_count": 5,
   "metadata": {},
   "outputs": [
    {
     "name": "stderr",
     "output_type": "stream",
     "text": [
      "[WDM] - ====== WebDriver manager ======\n"
     ]
    },
    {
     "name": "stdout",
     "output_type": "stream",
     "text": [
      "\n",
      "\n"
     ]
    },
    {
     "name": "stderr",
     "output_type": "stream",
     "text": [
      "[WDM] - Current google-chrome version is 88.0.4324\n",
      "[WDM] - Get LATEST driver version for 88.0.4324\n",
      "[WDM] - Get LATEST driver version for 88.0.4324\n",
      "[WDM] - Trying to download new driver from https://chromedriver.storage.googleapis.com/88.0.4324.96/chromedriver_mac64.zip\n",
      "[WDM] - Driver has been saved in cache [/Users/jmathur25/.wdm/drivers/chromedriver/mac64/88.0.4324.96]\n"
     ]
    }
   ],
   "source": [
    "driver = webdriver.Chrome(ChromeDriverManager().install())"
   ]
  },
  {
   "cell_type": "code",
   "execution_count": 17,
   "metadata": {},
   "outputs": [],
   "source": [
    "driver.get(url)"
   ]
  },
  {
   "cell_type": "code",
   "execution_count": 18,
   "metadata": {},
   "outputs": [],
   "source": [
    "# click through all pages of data and read html as pandas dataframe\n",
    "dfs = []\n",
    "while True:\n",
    "    html = driver.page_source\n",
    "    df = pd.read_html(html)\n",
    "    dfs.append(df[1])\n",
    "    \n",
    "    # navigate to next page until can't\n",
    "    button = driver.find_element_by_id(\"tasks-table_next\")\n",
    "    button_class = button.get_attribute(\"class\")\n",
    "    if button_class == 'paginate_button next disabled':\n",
    "        break\n",
    "    button.click() \n",
    "    time.sleep(0.1) # clicking too fast can cause races with JS execution"
   ]
  },
  {
   "cell_type": "code",
   "execution_count": 19,
   "metadata": {},
   "outputs": [],
   "source": [
    "df = pd.concat(dfs)"
   ]
  },
  {
   "cell_type": "code",
   "execution_count": 20,
   "metadata": {},
   "outputs": [],
   "source": [
    "# only look at this task\n",
    "df = df[ df['Name'] == 'app.celery.aws_ecs_creation.assign_container' ]"
   ]
  },
  {
   "cell_type": "code",
   "execution_count": 21,
   "metadata": {},
   "outputs": [
    {
     "data": {
      "text/plain": [
       "(20, 10)"
      ]
     },
     "execution_count": 21,
     "metadata": {},
     "output_type": "execute_result"
    }
   ],
   "source": [
    "# should be how many you ran, but for large load tests\n",
    "# flower might miss a few cause it does not poll workers fast enough\n",
    "df.shape"
   ]
  },
  {
   "cell_type": "code",
   "execution_count": 22,
   "metadata": {},
   "outputs": [
    {
     "data": {
      "text/plain": [
       "0.95"
      ]
     },
     "execution_count": 22,
     "metadata": {},
     "output_type": "execute_result"
    }
   ],
   "source": [
    "# percentage that succeeded\n",
    "(df['State'] == \"SUCCESS\").mean()"
   ]
  },
  {
   "cell_type": "code",
   "execution_count": 23,
   "metadata": {},
   "outputs": [
    {
     "data": {
      "text/plain": [
       "array(['SUCCESS', 'STARTED'], dtype=object)"
      ]
     },
     "execution_count": 23,
     "metadata": {},
     "output_type": "execute_result"
    }
   ],
   "source": [
    "pd.unique(df['State'])"
   ]
  },
  {
   "cell_type": "code",
   "execution_count": 15,
   "metadata": {},
   "outputs": [
    {
     "data": {
      "text/html": [
       "<div>\n",
       "<style scoped>\n",
       "    .dataframe tbody tr th:only-of-type {\n",
       "        vertical-align: middle;\n",
       "    }\n",
       "\n",
       "    .dataframe tbody tr th {\n",
       "        vertical-align: top;\n",
       "    }\n",
       "\n",
       "    .dataframe thead th {\n",
       "        text-align: right;\n",
       "    }\n",
       "</style>\n",
       "<table border=\"1\" class=\"dataframe\">\n",
       "  <thead>\n",
       "    <tr style=\"text-align: right;\">\n",
       "      <th></th>\n",
       "      <th>Name</th>\n",
       "      <th>UUID</th>\n",
       "      <th>State</th>\n",
       "      <th>args</th>\n",
       "      <th>kwargs</th>\n",
       "      <th>Result</th>\n",
       "      <th>Received</th>\n",
       "      <th>Started</th>\n",
       "      <th>Runtime</th>\n",
       "      <th>Worker</th>\n",
       "    </tr>\n",
       "  </thead>\n",
       "  <tbody>\n",
       "    <tr>\n",
       "      <th>2</th>\n",
       "      <td>app.celery.aws_ecs_creation.assign_container</td>\n",
       "      <td>c8dec425-5f34-46db-a996-c14f51e0aa50</td>\n",
       "      <td>STARTED</td>\n",
       "      <td>('test_user_19', 'fractal-dev-browsers-chrome'...</td>\n",
       "      <td>{'webserver_url': 'fractal-serv-jmather625-5e5...</td>\n",
       "      <td>NaN</td>\n",
       "      <td>2021-02-26 22:25:15.916</td>\n",
       "      <td>2021-02-26 22:25:16.134</td>\n",
       "      <td>NaN</td>\n",
       "      <td>celery@a1f70d7a-5f40-4d3c-89fa-d643a2388f4a</td>\n",
       "    </tr>\n",
       "  </tbody>\n",
       "</table>\n",
       "</div>"
      ],
      "text/plain": [
       "                                           Name  \\\n",
       "2  app.celery.aws_ecs_creation.assign_container   \n",
       "\n",
       "                                   UUID    State  \\\n",
       "2  c8dec425-5f34-46db-a996-c14f51e0aa50  STARTED   \n",
       "\n",
       "                                                args  \\\n",
       "2  ('test_user_19', 'fractal-dev-browsers-chrome'...   \n",
       "\n",
       "                                              kwargs Result  \\\n",
       "2  {'webserver_url': 'fractal-serv-jmather625-5e5...    NaN   \n",
       "\n",
       "                  Received                  Started  Runtime  \\\n",
       "2  2021-02-26 22:25:15.916  2021-02-26 22:25:16.134      NaN   \n",
       "\n",
       "                                        Worker  \n",
       "2  celery@a1f70d7a-5f40-4d3c-89fa-d643a2388f4a  "
      ]
     },
     "execution_count": 15,
     "metadata": {},
     "output_type": "execute_result"
    }
   ],
   "source": [
    "df[df['State'] == 'STARTED']"
   ]
  },
  {
   "cell_type": "code",
   "execution_count": 16,
   "metadata": {},
   "outputs": [
    {
     "data": {
      "text/html": [
       "<div>\n",
       "<style scoped>\n",
       "    .dataframe tbody tr th:only-of-type {\n",
       "        vertical-align: middle;\n",
       "    }\n",
       "\n",
       "    .dataframe tbody tr th {\n",
       "        vertical-align: top;\n",
       "    }\n",
       "\n",
       "    .dataframe thead th {\n",
       "        text-align: right;\n",
       "    }\n",
       "</style>\n",
       "<table border=\"1\" class=\"dataframe\">\n",
       "  <thead>\n",
       "    <tr style=\"text-align: right;\">\n",
       "      <th></th>\n",
       "      <th>Name</th>\n",
       "      <th>UUID</th>\n",
       "      <th>State</th>\n",
       "      <th>args</th>\n",
       "      <th>kwargs</th>\n",
       "      <th>Result</th>\n",
       "      <th>Received</th>\n",
       "      <th>Started</th>\n",
       "      <th>Runtime</th>\n",
       "      <th>Worker</th>\n",
       "    </tr>\n",
       "  </thead>\n",
       "  <tbody>\n",
       "  </tbody>\n",
       "</table>\n",
       "</div>"
      ],
      "text/plain": [
       "Empty DataFrame\n",
       "Columns: [Name, UUID, State, args, kwargs, Result, Received, Started, Runtime, Worker]\n",
       "Index: []"
      ]
     },
     "execution_count": 16,
     "metadata": {},
     "output_type": "execute_result"
    }
   ],
   "source": [
    "df[df['State'] == 'FAILURE']"
   ]
  },
  {
   "cell_type": "code",
   "execution_count": 60,
   "metadata": {},
   "outputs": [
    {
     "data": {
      "text/plain": [
       "<matplotlib.axes._subplots.AxesSubplot at 0x7fceb1407550>"
      ]
     },
     "execution_count": 60,
     "metadata": {},
     "output_type": "execute_result"
    },
    {
     "data": {
      "image/png": "[encoded data removed]",
      "text/plain": [
       "<Figure size 432x288 with 1 Axes>"
      ]
     },
     "metadata": {
      "needs_background": "light"
     },
     "output_type": "display_data"
    }
   ],
   "source": [
    "df['Runtime'].hist()"
   ]
  },
  {
   "cell_type": "code",
   "execution_count": 61,
   "metadata": {},
   "outputs": [
    {
     "name": "stdout",
     "output_type": "stream",
     "text": [
      "min: 19.329\n",
      "max: 57.175\n",
      "mean: 29.831157894736837\n",
      "stdev: 8.582010924100775\n"
     ]
    }
   ],
   "source": [
    "print_stats(df['Runtime'])"
   ]
  },
  {
   "cell_type": "code",
   "execution_count": 62,
   "metadata": {},
   "outputs": [
    {
     "name": "stdout",
     "output_type": "stream",
     "text": [
      "min: 19.329\n",
      "max: 57.175\n",
      "mean: 29.831157894736837\n",
      "stdev: 8.582010924100775\n"
     ]
    }
   ],
   "source": [
    "print_stats(df['Runtime'])"
   ]
  },
  {
   "cell_type": "code",
   "execution_count": null,
   "metadata": {},
   "outputs": [],
   "source": []
  },
  {
   "cell_type": "markdown",
   "metadata": {},
   "source": [
    "# Analyze client side"
   ]
  },
  {
   "cell_type": "code",
   "execution_count": 94,
   "metadata": {},
   "outputs": [],
   "source": [
    "savedir = \"aws_lambda_dump\" if TYPE == \"distributed\" else \"local_dump\"\n",
    "files = os.listdir(savedir)\n",
    "\n"
   ]
  },
  {
   "cell_type": "code",
   "execution_count": 95,
   "metadata": {},
   "outputs": [],
   "source": [
    "def load_distributed_data(fp):\n",
    "    data = json.load(fp)\n",
    "    # load body as json and save as so\n",
    "    data['body'] = json.loads(data['body'])\n",
    "    assert data['statusCode'] == 200\n",
    "    data = data['body']\n",
    "    return data\n",
    "\n",
    "def load_local_data(fp):\n",
    "    data = fp.read()\n",
    "    return json.loads(data)"
   ]
  },
  {
   "cell_type": "code",
   "execution_count": 96,
   "metadata": {},
   "outputs": [],
   "source": [
    "load_test_data = []\n",
    "for f in files:\n",
    "    data = None\n",
    "    with open(os.path.join(savedir, f)) as fp:\n",
    "        if TYPE == \"distributed\":\n",
    "            data = load_distributed_data(fp)\n",
    "        else:\n",
    "            data = load_local_data(fp)\n",
    "    load_test_data += data"
   ]
  },
  {
   "cell_type": "code",
   "execution_count": 97,
   "metadata": {},
   "outputs": [
    {
     "name": "stdout",
     "output_type": "stream",
     "text": [
      "Task 199c419e-05e2-43c8-b824-4abb5ed09a85 experienced errors: [\"Error in polling status of assign container. Message: Task failed with output: Received an Exception that could not be processed: 'exc_type'\"]\n",
      "Task cd2ea677-bda0-435a-9ef8-d38956495f15 experienced errors: [\"Error in polling status of assign container. Message: Task failed with output: Received an Exception that could not be processed: 'exc_type'\"]\n",
      "Task e8aa9df2-51a4-42d4-bcaa-fa5472a301a2 experienced errors: [\"Error in polling status of assign container. Message: Task failed with output: Received an Exception that could not be processed: 'exc_type'\"]\n"
     ]
    }
   ],
   "source": [
    "# scan for errors\n",
    "for i, data in enumerate(load_test_data):\n",
    "    if len(data['errors']) > 0:\n",
    "        task_id = data['task_id']\n",
    "        errors = data['errors']\n",
    "        print(f\"Task {task_id} experienced errors: {errors}\")"
   ]
  },
  {
   "cell_type": "code",
   "execution_count": 88,
   "metadata": {},
   "outputs": [],
   "source": [
    "all_status_codes = []\n",
    "all_web_times = []\n",
    "request_container_times = []\n",
    "poll_container_times = []\n",
    "for data in load_test_data:\n",
    "    all_status_codes += data['status_codes']\n",
    "    all_web_times += data['web_times']\n",
    "    request_container_times.append(data['request_container_time'])\n",
    "    pct = data['poll_container_time']\n",
    "    if pct is not None:\n",
    "        poll_container_times.append(pct)"
   ]
  },
  {
   "cell_type": "code",
   "execution_count": 89,
   "metadata": {},
   "outputs": [
    {
     "data": {
      "text/plain": [
       "(array([1456.,    0.,    0.,    0.,    0.,    0.,    0.,    0.,    0.,\n",
       "          20.]),\n",
       " array([200. , 200.2, 200.4, 200.6, 200.8, 201. , 201.2, 201.4, 201.6,\n",
       "        201.8, 202. ]),\n",
       " <a list of 10 Patch objects>)"
      ]
     },
     "execution_count": 89,
     "metadata": {},
     "output_type": "execute_result"
    },
    {
     "data": {
      "image/png": "[encoded data removed]",
      "text/plain": [
       "<Figure size 432x288 with 1 Axes>"
      ]
     },
     "metadata": {
      "needs_background": "light"
     },
     "output_type": "display_data"
    }
   ],
   "source": [
    "plt.hist(all_status_codes)"
   ]
  },
  {
   "cell_type": "code",
   "execution_count": 90,
   "metadata": {},
   "outputs": [
    {
     "data": {
      "text/plain": [
       "(array([200, 202]), array([1456,   20]))"
      ]
     },
     "execution_count": 90,
     "metadata": {},
     "output_type": "execute_result"
    }
   ],
   "source": [
    "np.unique(all_status_codes, return_counts=True)"
   ]
  },
  {
   "cell_type": "code",
   "execution_count": 91,
   "metadata": {},
   "outputs": [
    {
     "name": "stdout",
     "output_type": "stream",
     "text": [
      "min: 0.13612008094787598\n",
      "max: 3.65461802482605\n",
      "mean: 0.20370344579381347\n",
      "stdev: 0.20027085339647874\n"
     ]
    }
   ],
   "source": [
    "print_stats(all_web_times)"
   ]
  },
  {
   "cell_type": "code",
   "execution_count": 92,
   "metadata": {},
   "outputs": [
    {
     "name": "stdout",
     "output_type": "stream",
     "text": [
      "min: 0.14497709274291992\n",
      "max: 0.45579004287719727\n",
      "mean: 0.2006298065185547\n",
      "stdev: 0.06942662753183064\n"
     ]
    }
   ],
   "source": [
    "print_stats(request_container_times)"
   ]
  },
  {
   "cell_type": "code",
   "execution_count": 93,
   "metadata": {},
   "outputs": [
    {
     "name": "stdout",
     "output_type": "stream",
     "text": [
      "min: 24.05774998664856\n",
      "max: 102.81924676895142\n",
      "mean: 50.87954281568527\n",
      "stdev: 29.35344047790953\n"
     ]
    }
   ],
   "source": [
    "print_stats(poll_container_times)"
   ]
  },
  {
   "cell_type": "code",
   "execution_count": null,
   "metadata": {},
   "outputs": [],
   "source": []
  }
 ],
 "metadata": {
  "kernelspec": {
   "display_name": "Python 3",
   "language": "python",
   "name": "python3"
  },
  "language_info": {
   "codemirror_mode": {
    "name": "ipython",
    "version": 3
   },
   "file_extension": ".py",
   "mimetype": "text/x-python",
   "name": "python",
   "nbconvert_exporter": "python",
   "pygments_lexer": "ipython3",
   "version": "3.7.3"
  }
 },
 "nbformat": 4,
 "nbformat_minor": 2
}

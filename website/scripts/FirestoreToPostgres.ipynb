{
 "cells": [
  {
   "cell_type": "code",
   "execution_count": 1,
   "metadata": {},
   "outputs": [],
   "source": [
    "import firebase_admin\n",
    "from firebase_admin import credentials\n",
    "from firebase_admin import firestore\n",
    "import sqlalchemy\n",
    "from sqlalchemy import create_engine\n",
    "from sqlalchemy.sql import text"
   ]
  },
  {
   "cell_type": "code",
   "execution_count": 2,
   "metadata": {},
   "outputs": [
    {
     "name": "stdout",
     "output_type": "stream",
     "text": [
      "Requirement already satisfied: psycopg2-binary in /usr/local/Cellar/jupyterlab/2.2.8/libexec/lib/python3.8/site-packages (2.8.6)\r\n"
     ]
    }
   ],
   "source": [
    "# Install a pip package in the current Jupyter kernel\n",
    "import sys\n",
    "!{sys.executable} -m pip install psycopg2-binary"
   ]
  },
  {
   "cell_type": "code",
   "execution_count": 2,
   "metadata": {},
   "outputs": [],
   "source": [
    "def initialize_db():\n",
    "    cred = credentials.Certificate(\"new-website-prod-firebase-adminsdk-lni3g-ecda7ac2fe.json\")\n",
    "    firebase_admin.initialize_app(cred)\n",
    "    db = firestore.client()\n",
    "    return db\n",
    "\n",
    "db = initialize_db()"
   ]
  },
  {
   "cell_type": "code",
   "execution_count": 4,
   "metadata": {},
   "outputs": [],
   "source": [
    "# waitlist = db.collection(u'metadata').document(u'waitlist').get()\n",
    "\n",
    "# waitlist = waitlist.to_dict()[\"leaderboard\"]\n",
    "\n",
    "DATABASE_URL = 'postgres://ucku0hsojscvee:p7f1d2edbdf869347661f33081a83047ee25d7d645140ab723bd663c755782efe@ec2-52-205-156-208.compute-1.amazonaws.com:5432/d39emj1b15np0h'\n",
    "engine = create_engine(DATABASE_URL)"
   ]
  },
  {
   "cell_type": "code",
   "execution_count": 26,
   "metadata": {},
   "outputs": [],
   "source": [
    "with engine.connect() as con:\n",
    "    statement = text(\"\"\"INSERT INTO waitlist(user_id, name, points, referrals, referral_code, real_user) VALUES(:email, :name, :points, :referrals, :referralCode, :real)\"\"\")\n",
    "\n",
    "    for _, line in waitlist.items():\n",
    "        if not \"referralCode\" in line.keys():\n",
    "            line[\"referralCode\"] = None\n",
    "        line[\"real\"] = not \"generated_people\" in line[\"email\"]\n",
    "        con.execute(statement, **line)"
   ]
  },
  {
   "cell_type": "code",
   "execution_count": 8,
   "metadata": {},
   "outputs": [
    {
     "name": "stdout",
     "output_type": "stream",
     "text": [
      "170\n"
     ]
    }
   ],
   "source": [
    "waitlist = db.collection(u'metadata').document(u'waitlist').get()\n",
    "\n",
    "waitlist = waitlist.to_dict()[\"leaderboard\"]\n",
    "\n",
    "real_people = 0\n",
    "list_of_people = []\n",
    "\n",
    "for _, line in waitlist.items():\n",
    "    if not \"generated_people\" in line[\"email\"]:\n",
    "        real_people += 1\n",
    "        list_of_people.append(line[\"email\"])\n",
    "        \n",
    "print(real_people)"
   ]
  },
  {
   "cell_type": "code",
   "execution_count": 9,
   "metadata": {},
   "outputs": [
    {
     "name": "stdout",
     "output_type": "stream",
     "text": [
      "['achen@coatue.com', 'marb@gmail.com', 'verta.coszne@gmail.com', 'argunsingh@gmail.com', 'usmanali@gmail.com', 'adityajaiswal@gmail.com', 'sangramsingh@gmail.com', 'matthew', 'cidney@tryfractal.com', 'ryan.tk@att.net', 'cidney+test@tryfractal.com', 'Guptavedika2612@gmail.com', 'Marylama@gmail.com', 'satyamthakur@gmail.com', 'vedikagupta.birgunj@gmail.com', 'bizmates.mitsuo@gmail.com', 'davidalaba@gmail.com', 'rogercawdette@college.harvard.edu', 'sk1593346@gmail.com ', 'a.simadibrata@crimsoneducation.org', 'radheupta@gmail.com', 'stopman@gmail.com', 'prince.cieaae@gmail.com', 'ryan@familyking.org', 'sabin.act@gmail.com', 'Prachidesai@gmail.com', 'radhakrishna@gmail.com', 'aliabhat@gmail.com', 'omribarzi@gmail.com', 'calder_miller@college.harvard.edu', 'stantheman@gmail.com', 'yccgabby@gmail.com', 'leroysane@gmail.com', 'vchambers@college.harvard.edu', 'Arshdeep@gmail.com', 'Bishnoi@gmail.com', 'vikas9.m@gmail.com', 'lawrence@gmail.com', 'albertzdong@gmail.com', 'albert@godling.studio', 'jordialba@gmail.com', 'Afamousjoint@gmail.com', 'surendragupta.brg@gmail.com', 'smaranlal134@gmail.com', 'snikulin@gmail.com', 'Akshaykumar@gmail.com', 'shishir.s@studyin-uk.com', 's.mane@gmail.com', 'mingying2013@gmail.com', 'sabin.karki@idp.com', 'praveenkambog@gmail.com', 'robbie.zhuang@gmail.com', 'kburchard1@gmail.com', 'kevmo@berkeley.edu', 'helena.jain@idp.com', 'aphelios.soraka.lol@gmail.com', 'marcandre@gmail.com', 'Jackyhuang@college.harvard.edu', 'Deepikapadukone@gmail.com', 'girishk@stanford.edu', 'anglevedika@gmail.com', 'Surendragupta.brg@gmail.com', 'xander@gmail.com', 'surya.jb@gmail.com', 'sujinakaranjit@gmail.com', 'mingying2012@gmail.com', 'sachinsingh@gmail.com', 'Sk1593346@gmail.com', 'shresthabhasu83@gmail.com ', 'princesingh@gmail.com', 'Amrit.koirala@idp.com', 'adityathapa@gmail.com', 'aiyappa@hey.com', 'albertzhang9000@gmail.com', 'dvelez@mit.edu', 'john@envoyatHome.com', 'prince.cieaae2@gmail.com', 'shresthakishan054@gmail.com', 'philippemnoel@gmail.com', 'tin@learkn.com', 'angelcynthianavarro@gmail.com', 'prince.genshinimpact@gmail.com', 'Rakulpreetsingh@gmail.com', 'guptavedikaw612@gmail.com', 'richardjshu@gmail.com', 'prince.dpsn01@gmail.com', 'lingheng.qin@gmail.com', 'mg98042@gmail.com', 'ansufati@gmail.com', 'sanatmouli@gmail.com', 'mingying2019@gmail.com', 'mayankagarwal@gmail.com', 'conconjoshua@gmail.com', 'marutikunj@gmail.com', 'mohsala@gmil.com', 'encadyma@gmail.com', 'ronitnath@berkeley.edu', 'leor.fishman@gmail.com', 'jaiswalaks890@gmail.com', 'nikhilfromirvine@gmail.com', 'vmtahbflmni@1secmail.com', 'shivak9855020091@outlook.com', 'sadio@gmail.com', 'fred@test.com', 'mateigeorgianeh@gmail.com', 'russell.pekala@gmail.com', 'Ranveerkapoor@gmail.com', 'adriano@tryfractal.com', 'cid@test.com', 'roshan@tryfractal.com', 'ashishyadav@gmail.com', 'kdolan@kettering.edu', 'manuelneuer@gmail.com', 'Ranveersingh@gmail.com', 'adrian@gmail.com', 'kmo@ocf.berkeley.edu', 'theunreal629@gmail.com', 'ming@fractalcomputers.com', 'kyoko5102@gmail.com', 'Sarakhan@gmail.com', 'cidney+3@tryfractal.com', 'Sushantsingh@gmail.com', 'ashishthapa@gmail.com', 'cidney+test2@tryfractal.com', 'ramsingh@gmail.com', 'mane@gmail.com', 'Vedikagupta.birgunj@gmail.com', 'lingheng.qin@gmail.comv', 'amarsingh@gmail.com', 'satyamsingh@gmail.com', 'tarakgupta@gmail.com', 'admin@azamserver.me', 'nikhilsuri@comcast.net', 'findmagpie@gmail.com', 'suresh.dh.chd@gmail.com', 'mingying2011@gmail.com', 'ankushnidhi881@gmail.com', 'danagoldi@gmail.com', 'waddles@ocf.berkeley.edu', 'shishir.r@studyin-uk.com ', 'viokeifarm@gmail.com', 'horton.mrf@gmail.com', 'mdnaderi@gmail.com', 'shresthabhasu83@gmail.com', 'kevin@leverarchitecture.com', 'kiran.joshi@ctznbank.com', 'noahsaso@gmail.com ', 'kei.takatsuka1005@gmail.com', 'sk9855020091@gmail.com', 'Williamson@gmail.com', 'albertdong23@gmail.com', 'jorssaud@prunemaroon.com', 'smallninjaaustin@gmail.com', 'joshijuhi91@gmail.com', 'akshatjain@gmail.com', 'chiragsingh@gmail.com', 'jhanvichaudhary71@gmail.com', 'ciceduhub@gmail.com', 'rking21@mylcusd.net', 'donpaolonavarro.cieaae.fva@gmail.com', 'anupthapa@gmail.com', 'jenny@neo.com', 'don@godling.studio', 'albertdong23@gmail/com', 'kalugupta@gmail.com', 'sanjeevthapa@gmail.com', 'paulk86@gmail.com', 'smaran.sls@gmail.com', 'mielzydoodles@gmail.com', 'Jaisealaks890@gmail.com']\n"
     ]
    }
   ],
   "source": [
    "print(list_of_people)"
   ]
  },
  {
   "cell_type": "code",
   "execution_count": null,
   "metadata": {},
   "outputs": [],
   "source": []
  }
 ],
 "metadata": {
  "kernelspec": {
   "display_name": "Python 3",
   "language": "python",
   "name": "python3"
  },
  "language_info": {
   "codemirror_mode": {
    "name": "ipython",
    "version": 3
   },
   "file_extension": ".py",
   "mimetype": "text/x-python",
   "name": "python",
   "nbconvert_exporter": "python",
   "pygments_lexer": "ipython3",
   "version": "3.8.5"
  }
 },
 "nbformat": 4,
 "nbformat_minor": 4
}

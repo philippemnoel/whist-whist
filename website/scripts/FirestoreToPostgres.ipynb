{
 "cells": [
  {
   "cell_type": "code",
   "execution_count": 1,
   "metadata": {},
   "outputs": [],
   "source": [
    "import firebase_admin\n",
    "from firebase_admin import credentials\n",
    "from firebase_admin import firestore\n",
    "import sqlalchemy\n",
    "from sqlalchemy import create_engine\n",
    "from sqlalchemy.sql import text"
   ]
  },
  {
   "cell_type": "code",
   "execution_count": 2,
   "metadata": {},
   "outputs": [
    {
     "name": "stdout",
     "output_type": "stream",
     "text": [
      "Requirement already satisfied: psycopg2-binary in /usr/local/Cellar/jupyterlab/2.2.8/libexec/lib/python3.8/site-packages (2.8.6)\r\n"
     ]
    }
   ],
   "source": [
    "# Install a pip package in the current Jupyter kernel\n",
    "import sys\n",
    "!{sys.executable} -m pip install psycopg2-binary"
   ]
  },
  {
   "cell_type": "code",
   "execution_count": 2,
   "metadata": {},
   "outputs": [],
   "source": [
    "def initialize_db():\n",
    "    cred = credentials.Certificate(\"new-website-prod-firebase-adminsdk-lni3g-ecda7ac2fe.json\")\n",
    "    firebase_admin.initialize_app(cred)\n",
    "    db = firestore.client()\n",
    "    return db\n",
    "\n",
    "db = initialize_db()"
   ]
  },
  {
   "cell_type": "code",
   "execution_count": 4,
   "metadata": {},
   "outputs": [],
   "source": [
    "waitlist = db.collection(u'metadata').document(u'waitlist').get()\n",
    "waitlist = waitlist.to_dict()[\"leaderboard\"]\n",
    "\n",
    "# DATABASE_URL = 'postgres://u6pql3j5gmhc6u:pb6631bc11bf8d0a8402aea22057981a3e021e0d7cb7975c5bcbfd6ba33f00ac5@ec2-72-44-36-37.compute-1.amazonaws.com:5432/df7v4qmdt36prk'\n",
    "# engine = create_engine(DATABASE_URL)"
   ]
  },
  {
   "cell_type": "code",
   "execution_count": 5,
   "metadata": {},
   "outputs": [],
   "source": [
    "with engine.connect() as con:\n",
    "    statement = text(\"\"\"INSERT INTO waitlist(user_id, name, points, referrals, referral_code, real_user) VALUES(:email, :name, :points, :referrals, :referralCode, :real)\"\"\")\n",
    "\n",
    "    for _, line in waitlist.items():\n",
    "        if not \"referralCode\" in line.keys():\n",
    "            line[\"referralCode\"] = None\n",
    "        line[\"real\"] = not \"generated_people\" in line[\"email\"]\n",
    "        con.execute(statement, **line)"
   ]
  },
  {
   "cell_type": "code",
   "execution_count": 8,
   "metadata": {},
   "outputs": [
    {
     "name": "stdout",
     "output_type": "stream",
     "text": [
      "170\n"
     ]
    }
   ],
   "source": [
    "waitlist = db.collection(u'metadata').document(u'waitlist').get()\n",
    "\n",
    "waitlist = waitlist.to_dict()[\"leaderboard\"]\n",
    "\n",
    "real_people = 0\n",
    "list_of_people = []\n",
    "\n",
    "for _, line in waitlist.items():\n",
    "    if not \"generated_people\" in line[\"email\"]:\n",
    "        real_people += 1\n",
    "        list_of_people.append(line[\"email\"])\n",
    "        \n",
    "print(real_people)"
   ]
  },
  {
   "cell_type": "code",
   "execution_count": 6,
   "metadata": {},
   "outputs": [
    {
     "ename": "NameError",
     "evalue": "name 'console' is not defined",
     "output_type": "error",
     "traceback": [
      "\u001b[0;31m---------------------------------------------------------------------------\u001b[0m",
      "\u001b[0;31mNameError\u001b[0m                                 Traceback (most recent call last)",
      "\u001b[0;32m<ipython-input-6-1034e994df51>\u001b[0m in \u001b[0;36m<module>\u001b[0;34m\u001b[0m\n\u001b[0;32m----> 1\u001b[0;31m \u001b[0mconsole\u001b[0m\u001b[0;34m.\u001b[0m\u001b[0mlog\u001b[0m\u001b[0;34m(\u001b[0m\u001b[0;34m\"done\"\u001b[0m\u001b[0;34m)\u001b[0m\u001b[0;34m\u001b[0m\u001b[0;34m\u001b[0m\u001b[0m\n\u001b[0m",
      "\u001b[0;31mNameError\u001b[0m: name 'console' is not defined"
     ]
    }
   ],
   "source": [
    "console.log(\"done\")"
   ]
  },
  {
   "cell_type": "code",
   "execution_count": null,
   "metadata": {},
   "outputs": [],
   "source": []
  }
 ],
 "metadata": {
  "kernelspec": {
   "display_name": "Python 3",
   "language": "python",
   "name": "python3"
  },
  "language_info": {
   "codemirror_mode": {
    "name": "ipython",
    "version": 3
   },
   "file_extension": ".py",
   "mimetype": "text/x-python",
   "name": "python",
   "nbconvert_exporter": "python",
   "pygments_lexer": "ipython3",
   "version": "3.8.5"
  }
 },
 "nbformat": 4,
 "nbformat_minor": 4
}

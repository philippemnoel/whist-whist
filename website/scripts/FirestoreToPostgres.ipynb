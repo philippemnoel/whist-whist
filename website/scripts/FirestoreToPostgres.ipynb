{
 "cells": [
  {
   "cell_type": "code",
   "execution_count": 1,
   "metadata": {},
   "outputs": [],
   "source": [
    "import firebase_admin\n",
    "from firebase_admin import credentials\n",
    "from firebase_admin import firestore\n",
    "import sqlalchemy\n",
    "from sqlalchemy import create_engine\n",
    "from sqlalchemy.sql import text"
   ]
  },
  {
   "cell_type": "code",
   "execution_count": 2,
   "metadata": {},
   "outputs": [
    {
     "name": "stdout",
     "output_type": "stream",
     "text": [
      "Requirement already satisfied: psycopg2-binary in /usr/local/Cellar/jupyterlab/2.2.8/libexec/lib/python3.8/site-packages (2.8.6)\r\n"
     ]
    }
   ],
   "source": [
    "# Install a pip package in the current Jupyter kernel\n",
    "import sys\n",
    "!{sys.executable} -m pip install psycopg2-binary"
   ]
  },
  {
   "cell_type": "code",
   "execution_count": 3,
   "metadata": {},
   "outputs": [],
   "source": [
    "def initialize_db():\n",
    "    cred = credentials.Certificate(\"new-website-prod-firebase-adminsdk-lni3g-ecda7ac2fe.json\")\n",
    "    firebase_admin.initialize_app(cred)\n",
    "    db = firestore.client()\n",
    "    return db\n",
    "\n",
    "db = initialize_db()"
   ]
  },
  {
   "cell_type": "code",
   "execution_count": 4,
   "metadata": {},
   "outputs": [],
   "source": [
    "# waitlist = db.collection(u'metadata').document(u'waitlist').get()\n",
    "\n",
    "# waitlist = waitlist.to_dict()[\"leaderboard\"]\n",
    "\n",
    "DATABASE_URL = 'postgres://ucku0hsojscvee:p7f1d2edbdf869347661f33081a83047ee25d7d645140ab723bd663c755782efe@ec2-52-205-156-208.compute-1.amazonaws.com:5432/d39emj1b15np0h'\n",
    "engine = create_engine(DATABASE_URL)"
   ]
  },
  {
   "cell_type": "code",
   "execution_count": 26,
   "metadata": {},
   "outputs": [],
   "source": [
    "with engine.connect() as con:\n",
    "    statement = text(\"\"\"INSERT INTO waitlist(user_id, name, points, referrals, referral_code, real_user) VALUES(:email, :name, :points, :referrals, :referralCode, :real)\"\"\")\n",
    "\n",
    "    for _, line in waitlist.items():\n",
    "        if not \"referralCode\" in line.keys():\n",
    "            line[\"referralCode\"] = None\n",
    "        line[\"real\"] = not \"generated_people\" in line[\"email\"]\n",
    "        con.execute(statement, **line)"
   ]
  },
  {
   "cell_type": "code",
   "execution_count": 5,
   "metadata": {},
   "outputs": [
    {
     "name": "stdout",
     "output_type": "stream",
     "text": [
      "226\n"
     ]
    }
   ],
   "source": [
    "waitlist = db.collection(u'metadata').document(u'waitlist').get()\n",
    "\n",
    "waitlist = waitlist.to_dict()[\"leaderboard\"]\n",
    "\n",
    "real_people = 0\n",
    "list_of_people = []\n",
    "\n",
    "for _, line in waitlist.items():\n",
    "    if not \"generated_people\" in line[\"email\"]:\n",
    "        real_people += 1\n",
    "        list_of_people.append(line[\"email\"])\n",
    "        \n",
    "print(real_people)"
   ]
  },
  {
   "cell_type": "code",
   "execution_count": 6,
   "metadata": {},
   "outputs": [
    {
     "name": "stdout",
     "output_type": "stream",
     "text": [
      "['prince.cieaae2@gmail.com', 'chiragsingh@gmail.com', 'jhillkhurana@gmail.com', 'praveenkambog@gmail.com', 'mingying2019@gmail.com', 'ankushnidhi881@gmail.com', 'vikas9.m@gmail.com', 'ms@mail.com', 'Arshdeep@gmail.com', 'sujinakaranjit@gmail.com', 'smallninjaaustin@gmail.com', 'shikar@gmail.com', 'bravo@gmail.com', 'cidney@tryfractal.com', 'surya.jb@gmail.com', 'stopman@gmail.com', 'bizmates.mitsuo@gmail.com', 'diskant@gmail.com', 'alex@gmail.com', 'Williamson@gmail.com', 'albertdong23@gmail/com', 'sabin.karki@idp.com', 'joshijuhi91@gmail.com', 'kei.takatsuka1005@gmail.com', 'jorssaud@prunemaroon.com', 'ravindra@gmail.com', 'utest1775@gmail.com', 'jordialba@gmail.com', 'noahsaso@gmail.com ', 'aohillmann@gmail.com', 'adityathapa@gmail.com', 'kburchard1@gmail.com', 'sangramsingh@gmail.com', 'usmanali@gmail.com', 'kedar@gmail.com', 'guptavedikaw612@gmail.com', 'kmo@ocf.berkeley.edu', 'lawrence@gmail.com', 'ishant@gmail.com', 'aphelios.soraka.lol@gmail.com', 'tarakgupta@gmail.com', 'mane@gmail.com', 'suresh.dh.chd@gmail.com', 'marb@gmail.com', 'kagiso@gmail.com', 'trey@r7partners.com', 'angelcynthianavarro@gmail.com', 'ansufati@gmail.com', 'anupthapa@gmail.com', 'rayudu@gmail.com', 'sabin.act@gmail.com', 'matthew', 'chidambaram@gmail.com', 'helena.jain@idp.com', 'dmaninter@yandex.com', 'achen@coatue.com', 'jkl', 'mayankagarwal@gmail.com', 'princesingh@gmail.com', 'snikulin@gmail.com', 'roshan@tryfractal.com', 'ciceduhub@gmail.com', 'radhakrishna@gmail.com', 'akshatjain@gmail.com', 'nikhilsuri@comcast.net', 'ashishthapa@gmail.com', 'thakur@gmail.com', 'Ranveerkapoor@gmail.com', 'breakfast@gmail.com', 'albertdong23@gmail.com', 'Akshaykumar@gmail.com', 'kalugupta@gmail.com', 'marcandre@gmail.com', 'amarsingh@gmail.com', 'Sushantsingh@gmail.com', 'don@godling.studio', 'satyamsingh@gmail.com', 'Jackyhuang@college.harvard.edu', 'richardjshu@gmail.com', 'Rakulpreetsingh@gmail.com', 'seitkalievulan@gmail.com', 'rogercawdette@college.harvard.edu', 'Afamousjoint@gmail.com', 'rhickson1212@Gmail.com', 'adrian@gmail.com', 'asfasdfa', 'sadio@gmail.com', 'austin_jiang123@hotmail.com', 'lalit@gmail.com', 'stephen@gmail.com', 'abhatia98@gmail.com', 'stantheman@gmail.com', 'chahar@gmail.com', 'rsai@gmail.com', 'Amrit.koirala@idp.com', 'aiyappa@hey.com', 'monu@gmail.com', 'Marylama@gmail.com', 'mohsala@gmil.com', 'santer@gmail.com', 'Ranveersingh@gmail.com', 'davidalaba@gmail.com', 'sachinsingh@gmail.com', 'danagoldi@gmail.com', 'mingying2012@gmail.com', 'horton.mrf@gmail.com', 'leor.fishman@gmail.com', 'shivak9855020091@outlook.com', 'keemo@gmail.com', 'kha2108@columbia.edu', 'Deepikapadukone@gmail.com', 'Vedikagupta.birgunj@gmail.com', 'imran@gmail.com', 'marutikunj@gmail.com', 'mielzydoodles@gmail.com', 'tushar@gmail.com', 'mark@rarekarma.com', 'kmasif@gmail.com', 'conconjoshua@gmail.com', 'omribarzi@gmail.com', 'watson@gmail.com', 'smaranlal134@gmail.com', 'ascurran@gmail.com ', 'leroysane@gmail.com', 'smaran.sls@gmail.com', 'prince.cieaae@gmail.com', 'eppcmogen@gmail.com', 'girishk@stanford.edu', 'amit@gmail.com', 'Yccgabby@gmail.com', 'rishabh@gmail.com', 'adityajaiswal@gmail.com', 'Sk1593346@gmail.com', 'ming@fractalcomputers.com', 'cid@test.com', 'argunsingh@gmail.com', 'ksharma@gmail.com', 'pbriss@gmail.com', 'Sarakhan@gmail.com', 'Prachidesai@gmail.com', 'Jimlaf@hotmail.com', 'satyamthakur@gmail.com', 'yccgabby@gmail.com', 'surendragupta.brg@gmail.com', 'shresthabhasu83@gmail.com ', 'adriano@tryfractal.com', 'shishir.r@studyin-uk.com ', 'manuelneuer@gmail.com', 'lungi@gmail.com', 'mg98042@gmail.com', 'ramsingh@gmail.com', 'xander@gmail.com', 'findmagpie@gmail.com', 'radheupta@gmail.com', 'albertzhang9000@gmail.com', 'ashishyadav@gmail.com', 'Jaisealaks890@gmail.com', 'vchambers@college.harvard.edu', 'albert@godling.studio', 'harshal@gmail.com', 'sandeep@gmail.com', 'Bishnoi@gmail.com', 'vmtahbflmni@1secmail.com', 'lingheng.qin@gmail.comv', 'jenny@neo.com', 'kiran.joshi@ctznbank.com', 'daniel@gmail.com', 'philippemnoel@gmail.com', 'paulk86@gmail.com', 'ravichandran@gmail.com', 'sanjeevthapa@gmail.com', 'narayan@gmail.com', 'anrich@gmail.com', 'fafdu@gmail.com', 'axar@gmail.com', 'sk1593346@gmail.com ', 'a.simadibrata@crimsoneducation.org', 'cidney+test2@tryfractal.com', 'josh@gmail.com', 'shresthabhasu83@gmail.com', 'kdolan@kettering.edu', 'sk9855020091@gmail.com', 'ruturaj@gmail.com', 'aliabhat@gmail.com', 'robbie.zhuang@gmail.com', 'mohit@gmail.com', 'Guptavedika2612@gmail.com', 'donpaolonavarro.cieaae.fva@gmail.com', 'shimron@gmail.com', 'jaiswalaks890@gmail.com', 'shresthakishan054@gmail.com', 'cidney+3@tryfractal.com', 'piyush@gmail.com', 'sachin@methodmi.com', 'shishir.s@studyin-uk.com', 'cidney+test@tryfractal.com', 'prince.genshinimpact@gmail.com', 'lingheng.qin@gmail.com', 'russell.pekala@gmail.com', 'calder_miller@college.harvard.edu', 's.mane@gmail.com', 'mingying2011@gmail.com', 'random@gmail.com', 'anglevedika@gmail.com', 'a.rahane@gmail.com', 'fred@test.com', 'Surendragupta.brg@gmail.com', 'prince.dpsn01@gmail.com', 'marcu.theodor@gmail.com', 'albertzdong@gmail.com', 'jhanvichaudhary71@gmail.com', 'prithvi@gmail.com', 'Madisonafrye@gmail.com', 'avesh@gmail.com', 'viokeifarm@gmail.com', 'shashank@gmail.com', 'vedikagupta.birgunj@gmail.com', 'mingying2013@gmail.com', 'marcus@gmail.com', 'dvelez@mit.edu', 'cidney+refer@tryfractal.com', 'shreyas@gmail.com', 'tin@learkn.com', 'cidney+6@tryfractal.com', 'vijay@gmail.com', 'sanatmouli@gmail.com']\n"
     ]
    }
   ],
   "source": [
    "print(list_of_people)"
   ]
  },
  {
   "cell_type": "code",
   "execution_count": null,
   "metadata": {},
   "outputs": [],
   "source": []
  }
 ],
 "metadata": {
  "kernelspec": {
   "display_name": "Python 3",
   "language": "python",
   "name": "python3"
  },
  "language_info": {
   "codemirror_mode": {
    "name": "ipython",
    "version": 3
   },
   "file_extension": ".py",
   "mimetype": "text/x-python",
   "name": "python",
   "nbconvert_exporter": "python",
   "pygments_lexer": "ipython3",
   "version": "3.8.5"
  }
 },
 "nbformat": 4,
 "nbformat_minor": 4
}

{
 "cells": [
  {
   "cell_type": "code",
   "execution_count": 1,
   "metadata": {},
   "outputs": [],
   "source": [
    "import firebase_admin\n",
    "from firebase_admin import credentials\n",
    "from firebase_admin import firestore\n",
    "import sqlalchemy\n",
    "from sqlalchemy import create_engine\n",
    "from sqlalchemy.sql import text"
   ]
  },
  {
   "cell_type": "code",
   "execution_count": 2,
   "metadata": {},
   "outputs": [
    {
     "name": "stdout",
     "output_type": "stream",
     "text": [
      "Requirement already satisfied: psycopg2-binary in /usr/local/Cellar/jupyterlab/2.2.8/libexec/lib/python3.8/site-packages (2.8.6)\r\n"
     ]
    }
   ],
   "source": [
    "# Install a pip package in the current Jupyter kernel\n",
    "import sys\n",
    "!{sys.executable} -m pip install psycopg2-binary"
   ]
  },
  {
   "cell_type": "code",
   "execution_count": 3,
   "metadata": {},
   "outputs": [],
   "source": [
    "def initialize_db():\n",
    "    cred = credentials.Certificate(\"new-website-prod-firebase-adminsdk-lni3g-ecda7ac2fe.json\")\n",
    "    firebase_admin.initialize_app(cred)\n",
    "    db = firestore.client()\n",
    "    return db\n",
    "\n",
    "db = initialize_db()"
   ]
  },
  {
   "cell_type": "code",
   "execution_count": 4,
   "metadata": {},
   "outputs": [],
   "source": [
    "# waitlist = db.collection(u'metadata').document(u'waitlist').get()\n",
    "\n",
    "# waitlist = waitlist.to_dict()[\"leaderboard\"]\n",
    "\n",
    "DATABASE_URL = 'postgres://ucku0hsojscvee:p7f1d2edbdf869347661f33081a83047ee25d7d645140ab723bd663c755782efe@ec2-52-205-156-208.compute-1.amazonaws.com:5432/d39emj1b15np0h'\n",
    "engine = create_engine(DATABASE_URL)"
   ]
  },
  {
   "cell_type": "code",
   "execution_count": 26,
   "metadata": {},
   "outputs": [],
   "source": [
    "with engine.connect() as con:\n",
    "    statement = text(\"\"\"INSERT INTO waitlist(user_id, name, points, referrals, referral_code, real_user) VALUES(:email, :name, :points, :referrals, :referralCode, :real)\"\"\")\n",
    "\n",
    "    for _, line in waitlist.items():\n",
    "        if not \"referralCode\" in line.keys():\n",
    "            line[\"referralCode\"] = None\n",
    "        line[\"real\"] = not \"generated_people\" in line[\"email\"]\n",
    "        con.execute(statement, **line)"
   ]
  },
  {
   "cell_type": "code",
   "execution_count": 6,
   "metadata": {},
   "outputs": [
    {
     "name": "stdout",
     "output_type": "stream",
     "text": [
      "225\n"
     ]
    }
   ],
   "source": [
    "waitlist = db.collection(u'metadata').document(u'waitlist').get()\n",
    "\n",
    "waitlist = waitlist.to_dict()[\"leaderboard\"]\n",
    "\n",
    "real_people = 0\n",
    "list_of_people = []\n",
    "\n",
    "for _, line in waitlist.items():\n",
    "    if not \"generated_people\" in line[\"email\"]:\n",
    "        real_people += 1\n",
    "        list_of_people.append(line[\"email\"])\n",
    "        \n",
    "print(real_people)"
   ]
  },
  {
   "cell_type": "code",
   "execution_count": 7,
   "metadata": {},
   "outputs": [
    {
     "name": "stdout",
     "output_type": "stream",
     "text": [
      "['rogercawdette@college.harvard.edu', 'suresh.dh.chd@gmail.com', 's.mane@gmail.com', 'sujinakaranjit@gmail.com', 'ramsingh@gmail.com', 'cidney+6@tryfractal.com', 'rishabh@gmail.com', 'jordialba@gmail.com', 'random@gmail.com', 'Jaisealaks890@gmail.com', 'alex@gmail.com', 'satyamthakur@gmail.com', 'cidney@tryfractal.com', 'mane@gmail.com', 'ascurran@gmail.com ', 'princesingh@gmail.com', 'viokeifarm@gmail.com', 'conconjoshua@gmail.com', 'vedikagupta.birgunj@gmail.com', 'imran@gmail.com', 'fred@test.com', 'sachinsingh@gmail.com', 'radhakrishna@gmail.com', 'prince.dpsn01@gmail.com', 'philippemnoel@gmail.com', 'chiragsingh@gmail.com', 'monu@gmail.com', 'stantheman@gmail.com', 'Jackyhuang@college.harvard.edu', 'Sarakhan@gmail.com', 'tarakgupta@gmail.com', 'lingheng.qin@gmail.comv', 'leroysane@gmail.com', 'kei.takatsuka1005@gmail.com', 'xander@gmail.com', 'kha2108@columbia.edu', 'shishir.s@studyin-uk.com', 'anrich@gmail.com', 'narayan@gmail.com', 'akshatjain@gmail.com', 'anglevedika@gmail.com', 'kburchard1@gmail.com', 'ashishyadav@gmail.com', 'tin@learkn.com', 'stephen@gmail.com', 'adriano@tryfractal.com', 'vikas9.m@gmail.com', 'smaranlal134@gmail.com', 'mingying2013@gmail.com', 'lawrence@gmail.com', 'kedar@gmail.com', 'surendragupta.brg@gmail.com', 'Ranveerkapoor@gmail.com', 'surya.jb@gmail.com', 'pbriss@gmail.com', 'calder_miller@college.harvard.edu', 'vchambers@college.harvard.edu', 'aohillmann@gmail.com', 'dmaninter@yandex.com', 'daniel@gmail.com', 'satyamsingh@gmail.com', 'a.simadibrata@crimsoneducation.org', 'santer@gmail.com', 'austin_jiang123@hotmail.com', 'angelcynthianavarro@gmail.com', 'shresthabhasu83@gmail.com', 'mohit@gmail.com', 'eppcmogen@gmail.com', 'donpaolonavarro.cieaae.fva@gmail.com', 'yccgabby@gmail.com', 'ankushnidhi881@gmail.com', 'Madisonafrye@gmail.com', 'jorssaud@prunemaroon.com', 'bravo@gmail.com', 'ashishthapa@gmail.com', 'jhillkhurana@gmail.com', 'trey@r7partners.com', 'harshal@gmail.com', 'bizmates.mitsuo@gmail.com', 'marcandre@gmail.com', 'ksharma@gmail.com', 'helena.jain@idp.com', 'Arshdeep@gmail.com', 'guptavedikaw612@gmail.com', 'vijay@gmail.com', 'jaiswalaks890@gmail.com', 'Williamson@gmail.com', 'cidney+refer@tryfractal.com', 'matthew', 'chidambaram@gmail.com', 'vmtahbflmni@1secmail.com', 'aphelios.soraka.lol@gmail.com', 'adrian@gmail.com', 'ravichandran@gmail.com', 'Yccgabby@gmail.com', 'ruturaj@gmail.com', 'leor.fishman@gmail.com', 'albertdong23@gmail/com', 'axar@gmail.com', 'Vedikagupta.birgunj@gmail.com', 'noahsaso@gmail.com ', 'mingying2019@gmail.com', 'shreyas@gmail.com', 'cidney+test@tryfractal.com', 'shivak9855020091@outlook.com', 'rhickson1212@Gmail.com', 'cid@test.com', 'chahar@gmail.com', 'manuelneuer@gmail.com', 'rsai@gmail.com', 'albertzdong@gmail.com', 'stopman@gmail.com', 'nikhilsuri@comcast.net', 'mingying2012@gmail.com', 'Surendragupta.brg@gmail.com', 'marutikunj@gmail.com', 'horton.mrf@gmail.com', 'Bishnoi@gmail.com', 'Sushantsingh@gmail.com', 'don@godling.studio', 'marcus@gmail.com', 'fafdu@gmail.com', 'sanatmouli@gmail.com', 'kmo@ocf.berkeley.edu', 'lingheng.qin@gmail.com', 'davidalaba@gmail.com', 'findmagpie@gmail.com', 'keemo@gmail.com', 'kiran.joshi@ctznbank.com', 'smallninjaaustin@gmail.com', 'piyush@gmail.com', 'aiyappa@hey.com', 'ishant@gmail.com', 'breakfast@gmail.com', 'amarsingh@gmail.com', 'lungi@gmail.com', 'danagoldi@gmail.com', 'albertzhang9000@gmail.com', 'sabin.karki@idp.com', 'shashank@gmail.com', 'Akshaykumar@gmail.com', 'roshan@tryfractal.com', 'sabin.act@gmail.com', 'ravindra@gmail.com', 'ming@fractalcomputers.com', 'josh@gmail.com', 'mayankagarwal@gmail.com', 'tushar@gmail.com', 'ansufati@gmail.com', 'shresthakishan054@gmail.com', 'smaran.sls@gmail.com', 'mohsala@gmil.com', 'a.rahane@gmail.com', 'Rakulpreetsingh@gmail.com', 'marcu.theodor@gmail.com', 'praveenkambog@gmail.com', 'cidney+test2@tryfractal.com', 'watson@gmail.com', 'Amrit.koirala@idp.com', 'adityajaiswal@gmail.com', 'sangramsingh@gmail.com', 'amit@gmail.com', 'Jimlaf@hotmail.com', 'jhanvichaudhary71@gmail.com', 'sk1593346@gmail.com ', 'shresthabhasu83@gmail.com ', 'cidney+3@tryfractal.com', 'Prachidesai@gmail.com', 'diskant@gmail.com', 'mingying2011@gmail.com', 'kalugupta@gmail.com', 'Afamousjoint@gmail.com', 'ms@mail.com', 'russell.pekala@gmail.com', 'shimron@gmail.com', 'marb@gmail.com', 'avesh@gmail.com', 'paulk86@gmail.com', 'kdolan@kettering.edu', 'argunsingh@gmail.com', 'ciceduhub@gmail.com', 'Marylama@gmail.com', 'Deepikapadukone@gmail.com', 'albertdong23@gmail.com', 'mark@rarekarma.com', 'anupthapa@gmail.com', 'sanjeevthapa@gmail.com', 'Ranveersingh@gmail.com', 'achen@coatue.com', 'utest1775@gmail.com', 'seitkalievulan@gmail.com', 'joshijuhi91@gmail.com', 'adityathapa@gmail.com', 'kagiso@gmail.com', 'thakur@gmail.com', 'jenny@neo.com', 'rayudu@gmail.com', 'abhatia98@gmail.com', 'prithvi@gmail.com', 'girishk@stanford.edu', 'omribarzi@gmail.com', 'Guptavedika2612@gmail.com', 'prince.genshinimpact@gmail.com', 'lalit@gmail.com', 'prince.cieaae2@gmail.com', 'jkl', 'richardjshu@gmail.com', 'mg98042@gmail.com', 'usmanali@gmail.com', 'radheupta@gmail.com', 'shishir.r@studyin-uk.com ', 'asfasdfa', 'shikar@gmail.com', 'mielzydoodles@gmail.com', 'snikulin@gmail.com', 'sandeep@gmail.com', 'albert@godling.studio', 'sk9855020091@gmail.com', 'sadio@gmail.com', 'Sk1593346@gmail.com', 'dvelez@mit.edu', 'robbie.zhuang@gmail.com', 'kmasif@gmail.com', 'aliabhat@gmail.com', 'prince.cieaae@gmail.com']\n"
     ]
    }
   ],
   "source": [
    "print(list_of_people)"
   ]
  },
  {
   "cell_type": "code",
   "execution_count": null,
   "metadata": {},
   "outputs": [],
   "source": []
  }
 ],
 "metadata": {
  "kernelspec": {
   "display_name": "Python 3",
   "language": "python",
   "name": "python3"
  },
  "language_info": {
   "codemirror_mode": {
    "name": "ipython",
    "version": 3
   },
   "file_extension": ".py",
   "mimetype": "text/x-python",
   "name": "python",
   "nbconvert_exporter": "python",
   "pygments_lexer": "ipython3",
   "version": "3.8.5"
  }
 },
 "nbformat": 4,
 "nbformat_minor": 4
}

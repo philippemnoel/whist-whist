{
 "cells": [
  {
   "cell_type": "code",
   "execution_count": 15,
   "metadata": {},
   "outputs": [],
   "source": [
    "import names\n",
    "import numpy as np\n",
    "import random\n",
    "from ProductHuntScraper import ProductHunt\n",
    "import firebase_admin\n",
    "from firebase_admin import credentials\n",
    "from firebase_admin import firestore\n",
    "import random\n",
    "import gender_guesser.detector as gender"
   ]
  },
  {
   "cell_type": "code",
   "execution_count": 2,
   "metadata": {},
   "outputs": [],
   "source": [
    "def initialize_db():\n",
    "    cred = credentials.Certificate(\"new-website-prod-firebase-adminsdk-lni3g-ecda7ac2fe.json\")\n",
    "    firebase_admin.initialize_app(cred)\n",
    "    db = firestore.client()\n",
    "    return db"
   ]
  },
  {
   "cell_type": "code",
   "execution_count": 3,
   "metadata": {},
   "outputs": [],
   "source": [
    "db = initialize_db()"
   ]
  },
  {
   "cell_type": "code",
   "execution_count": 4,
   "metadata": {},
   "outputs": [],
   "source": [
    "def generate_keys_firebase():\n",
    "    users_ref = db.collection(u'waitlist')\n",
    "    docs = users_ref.stream()\n",
    "    cache = {}\n",
    "    for doc in docs:\n",
    "        cache[doc.id] = 1\n",
    "    return cache"
   ]
  },
  {
   "cell_type": "code",
   "execution_count": 5,
   "metadata": {},
   "outputs": [],
   "source": [
    "def write_to_firebase(fake_people_and_their_points):\n",
    "    cache = generate_keys_firebase()\n",
    "    points_list = {}\n",
    "    for user_info in fake_people_and_their_points:\n",
    "        rand_int = random.randint(1,1000000)\n",
    "        email = \"generated_people{rand_int}@gmail.com\".format(rand_int=str(rand_int))\n",
    "        while email in cache:\n",
    "            rand_int = random.randint(1,1000000)\n",
    "            email = \"generated_people{rand_int}@gmail.com\".format(rand_int=str(rand_int))\n",
    "            print(email)\n",
    "        doc_ref = db.collection(u'waitlist').document(email)\n",
    "        doc_ref.set({\n",
    "            u'name': user_info['person_name'],\n",
    "            u'referrals': int(user_info['person_referrals']),\n",
    "            u'points': int(user_info['person_points'])\n",
    "        })\n",
    "        points_list[email] = {\"email\": email, \"points\": int(user_info['person_points']), \"name\": user_info['person_name'], \"referrals\": int(user_info['person_referrals'])}\n",
    "        \n",
    "    leaderboard_ref = db.collection(u'metadata').document(u'waitlist').update({\n",
    "        u'leaderboard': points_list\n",
    "    })"
   ]
  },
  {
   "cell_type": "code",
   "execution_count": 6,
   "metadata": {},
   "outputs": [],
   "source": [
    "def write_to_firebase(fake_people_and_their_points):\n",
    "    cache = generate_keys_firebase()\n",
    "    points_dict = {}\n",
    "    for user_info in fake_people_and_their_points:\n",
    "        rand_int = random.randint(1,1000000)\n",
    "        email = \"generated_people{rand_int}@gmail.com\".format(rand_int=str(rand_int))\n",
    "        while email in cache:\n",
    "            rand_int = random.randint(1,1000000)\n",
    "            email = \"generated_people{rand_int}@gmail.com\".format(rand_int=str(rand_int))\n",
    "            print(email)\n",
    "#         doc_ref = db.collection(u'waitlist').document(email)\n",
    "#         doc_ref.set({\n",
    "#             u'name': user_info['person_name'],\n",
    "#             u'referrals': int(user_info['person_referrals']),\n",
    "#             u'points': int(user_info['person_points'])\n",
    "#         })\n",
    "        points_dict[email] = {\"email\": email, \"points\": int(user_info['person_points']), \"name\": user_info['person_name'], \"referrals\": int(user_info['person_referrals'])}\n",
    "        \n",
    "    leaderboard_ref = db.collection(u'metadata').document(u'waitlist').update({\n",
    "        u'leaderboard': points_dict\n",
    "    })"
   ]
  },
  {
   "cell_type": "code",
   "execution_count": 7,
   "metadata": {},
   "outputs": [],
   "source": [
    "def generate_right_skewed_distribution(max_number_referrals):\n",
    "    ''' takes in the ceiling of random referrals (max_number_referrals)\n",
    "    and returns a right-skewed distribution up to max_number_referrals\n",
    "    and its corresponding array. Input a value greater than 2. \n",
    "    '''\n",
    "    pers = np.arange(0,max_number_referrals,1)\n",
    "\n",
    "    prob = [10000] * (0) + [9.0]* (1) + [1.0] * (len(pers) - 1)\n",
    "    prob /= np.sum(prob)\n",
    "    return pers, prob\n"
   ]
  },
  {
   "cell_type": "code",
   "execution_count": 8,
   "metadata": {},
   "outputs": [],
   "source": [
    "def generate_name_with_typo_sometimes(percentage):\n",
    "    '''generate the name with some typos some percentage of the time'''\n",
    "    name = names.get_full_name()\n",
    "    typo_rand = random.randint(1, 100)\n",
    "    if typo_rand <= percentage:\n",
    "        name_len = len(name)\n",
    "        introduce_typo_location = random.randint(0, name_len)\n",
    "        error_type = random.randint(1,2)\n",
    "        if error_type == 1:\n",
    "            first_last = random.randint(1,2)\n",
    "            typo_name = lower_nth(name, first_last)\n",
    "        else:\n",
    "            typo_name = capitalize_nth(name, introduce_typo_location)\n",
    "        return typo_name\n",
    "    return name"
   ]
  },
  {
   "cell_type": "code",
   "execution_count": 9,
   "metadata": {},
   "outputs": [],
   "source": [
    "def lower_nth(s, n):\n",
    "    return s[:n] + s[n:].lower() "
   ]
  },
  {
   "cell_type": "code",
   "execution_count": 10,
   "metadata": {},
   "outputs": [],
   "source": [
    "def capitalize_nth(s, n):\n",
    "    return s[:n] + s[n:].capitalize() "
   ]
  },
  {
   "cell_type": "code",
   "execution_count": 31,
   "metadata": {},
   "outputs": [],
   "source": [
    "def generate_from_names_library(number_gen, max_number_referrals):\n",
    "    '''generate a list of names up to number_gen people with each \n",
    "    referral maxed out at max_number_referrals using the names library\n",
    "    '''\n",
    "    \n",
    "    d = gender.Detector(case_sensitive=False)\n",
    "    num_males, num_females = 0, 0\n",
    "    pers, right_distribution = generate_right_skewed_distribution(max_number_referrals)\n",
    "    people = set()\n",
    "    people_referrals = []\n",
    "    \n",
    "    while len(people) != number_gen:\n",
    "        name = generate_name_with_typo_sometimes(10)\n",
    "        if random.randint(0, 10) < 7:\n",
    "            name = name.split(\" \")[0]\n",
    "        if num_males > num_females * (0.75):\n",
    "            if d.get_gender(name) == 'female':\n",
    "                num_females += 1\n",
    "                people.add(name) \n",
    "            continue\n",
    "        else:\n",
    "            if d.get_gender(name) == 'male':\n",
    "                num_males += 1\n",
    "            elif d.get_gender(name) == 'female':\n",
    "                num_females += 1\n",
    "            people.add(name)            \n",
    "    for person in people:\n",
    "        number = np.random.choice(pers, 1, p=right_distribution)[0]\n",
    "        people_referrals.append((person, number))\n",
    "        \n",
    "    return people_referrals"
   ]
  },
  {
   "cell_type": "code",
   "execution_count": 12,
   "metadata": {},
   "outputs": [],
   "source": [
    "def generate_from_names_product_hunt(number_gen, max_number_referrals):\n",
    "    '''generate a list of names up to number_gen people with each \n",
    "    referral maxed out at max_number_referrals by scraping ProductHunt\n",
    "    '''\n",
    "    \n",
    "    PH = ProductHunt()\n",
    "    makers, hunters = PH.find_makers_and_hunters()\n",
    "    pers, right_distribution = generate_right_skewed_distribution(max_number_referrals)\n",
    "    people = set()\n",
    "    people_referrals = []\n",
    "\n",
    "    people.update(makers)\n",
    "    people.update(hunters)\n",
    "    \n",
    "    while len(people) < number_gen:\n",
    "        name = generate_name_with_typo_sometimes(20)\n",
    "        people.add(name)\n",
    "    \n",
    "    for person in people:\n",
    "        if len(people_referrals) == number_gen:\n",
    "            break\n",
    "        number = np.random.choice(pers, 1, p = right_distribution)[0]\n",
    "        people_referrals.append((person, number))\n",
    "        \n",
    "    return people_referrals\n",
    "        "
   ]
  },
  {
   "cell_type": "code",
   "execution_count": 13,
   "metadata": {},
   "outputs": [],
   "source": [
    "def generate_fake_points_people(people_referrals):\n",
    "    '''\n",
    "    takes in a tuples of (names, referrals) and generates their \n",
    "    point allocation\n",
    "    '''\n",
    "    \n",
    "    all_peoples_data = []\n",
    "    for people_referral in people_referrals:\n",
    "#         pers, distribution = generate_fake_points_distribution(people_referral[1], max_points)\n",
    "#         number = np.random.choice(pers, 1, p = distribution)[0]\n",
    "        name = people_referral[0]\n",
    "        num_referrals = people_referral[1]\n",
    "        points = num_referrals * 100 + 50\n",
    "        person_data = {\n",
    "            'person_name': name,\n",
    "            'person_referrals': num_referrals,\n",
    "            'person_points': points + np.random.normal(20, 8, 1)[0]\n",
    "        }\n",
    "        all_peoples_data.append(person_data)\n",
    "        \n",
    "    return all_peoples_data"
   ]
  },
  {
   "cell_type": "code",
   "execution_count": 15,
   "metadata": {},
   "outputs": [
    {
     "name": "stdout",
     "output_type": "stream",
     "text": [
      "done\n"
     ]
    }
   ],
   "source": [
    "# print(\"generating refs\")\n",
    "# refs = generate_from_names_library(5007, 15)\n",
    "# print(\"generating people\")\n",
    "# fake_people = generate_fake_points_people(refs)\n",
    "# print(\"writing\")\n",
    "# write_to_firebase(fake_people[0:1000])\n",
    "print(\"done\")"
   ]
  },
  {
   "cell_type": "code",
   "execution_count": 32,
   "metadata": {},
   "outputs": [],
   "source": [
    "refs = generate_from_names_library(48, 15)\n"
   ]
  },
  {
   "cell_type": "code",
   "execution_count": 33,
   "metadata": {},
   "outputs": [
    {
     "data": {
      "text/plain": [
       "[('Douglas', 1),\n",
       " ('James', 0),\n",
       " ('Mary', 4),\n",
       " ('Curtis', 6),\n",
       " ('Carl Pease', 0),\n",
       " ('Cindy Schroeder', 0),\n",
       " ('Kati', 7),\n",
       " ('Tina', 2),\n",
       " ('Deborah', 9),\n",
       " ('David', 7),\n",
       " ('James Richards', 0),\n",
       " ('Joseph Grammer', 8),\n",
       " ('Tim', 9),\n",
       " ('Joseph', 6),\n",
       " ('Amy', 0),\n",
       " ('Susannah Thompson', 4),\n",
       " ('Robert', 0),\n",
       " ('Marvin', 9),\n",
       " ('Zita', 6),\n",
       " ('Harry HagLer', 0),\n",
       " ('Miguel Bilyeu', 0),\n",
       " ('Martha', 14),\n",
       " ('Nicole', 7),\n",
       " ('Jason', 0),\n",
       " ('Margaret', 14),\n",
       " ('Willie', 3),\n",
       " ('Carole', 0),\n",
       " ('Franklin Myers', 12),\n",
       " ('Cynthia Dudley', 10),\n",
       " ('JeNna', 9),\n",
       " ('Frank Varley', 12),\n",
       " ('Linda', 3),\n",
       " ('Beverly', 12),\n",
       " ('Christopher Doyle', 3),\n",
       " ('William', 0),\n",
       " ('Kathleen', 9),\n",
       " ('Steve', 3),\n",
       " ('Sadie', 10),\n",
       " ('Blanche Kendall', 4),\n",
       " ('Michelle Schweitzer', 2),\n",
       " ('Frank Canady', 11),\n",
       " ('Paula', 0),\n",
       " ('Donald', 11),\n",
       " ('Doris', 13),\n",
       " ('Tiffany', 0),\n",
       " ('Alice Dietrich', 0),\n",
       " ('Ernesto Bell', 7),\n",
       " ('Angela', 0)]"
      ]
     },
     "execution_count": 33,
     "metadata": {},
     "output_type": "execute_result"
    }
   ],
   "source": [
    "refs"
   ]
  },
  {
   "cell_type": "code",
   "execution_count": null,
   "metadata": {},
   "outputs": [],
   "source": []
  }
 ],
 "metadata": {
  "kernelspec": {
   "display_name": "Python 3",
   "language": "python",
   "name": "python3"
  },
  "language_info": {
   "codemirror_mode": {
    "name": "ipython",
    "version": 3
   },
   "file_extension": ".py",
   "mimetype": "text/x-python",
   "name": "python",
   "nbconvert_exporter": "python",
   "pygments_lexer": "ipython3",
   "version": "3.7.9"
  }
 },
 "nbformat": 4,
 "nbformat_minor": 4
}

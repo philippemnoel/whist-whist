{
 "cells": [
  {
   "cell_type": "code",
   "execution_count": 1,
   "metadata": {},
   "outputs": [],
   "source": [
    "import names\n",
    "import numpy as np\n",
    "import random\n",
    "from ProductHuntScraper import ProductHunt\n",
    "import firebase_admin\n",
    "from firebase_admin import credentials\n",
    "from firebase_admin import firestore\n",
    "import random"
   ]
  },
  {
   "cell_type": "code",
   "execution_count": 2,
   "metadata": {},
   "outputs": [],
   "source": [
    "def initialize_db():\n",
    "    cred = credentials.Certificate(\"new-website-prod-firebase-adminsdk-lni3g-ecda7ac2fe.json\")\n",
    "    firebase_admin.initialize_app(cred)\n",
    "    db = firestore.client()\n",
    "    return db"
   ]
  },
  {
   "cell_type": "code",
   "execution_count": 3,
   "metadata": {},
   "outputs": [],
   "source": [
    "db = initialize_db()"
   ]
  },
  {
   "cell_type": "code",
   "execution_count": 4,
   "metadata": {},
   "outputs": [],
   "source": [
    "def generate_keys_firebase():\n",
    "    users_ref = db.collection(u'waitlist')\n",
    "    docs = users_ref.stream()\n",
    "    cache = {}\n",
    "    for doc in docs:\n",
    "        cache[doc.id] = 1\n",
    "    return cache"
   ]
  },
  {
   "cell_type": "code",
   "execution_count": 17,
   "metadata": {},
   "outputs": [],
   "source": [
    "def write_to_firebase(fake_people_and_their_points):\n",
    "    cache = generate_keys_firebase()\n",
    "    points_list = {}\n",
    "    for user_info in fake_people_and_their_points:\n",
    "        rand_int = random.randint(1,1000000)\n",
    "        email = \"generated_people{rand_int}@gmail.com\".format(rand_int=str(rand_int))\n",
    "        while email in cache:\n",
    "            rand_int = random.randint(1,1000000)\n",
    "            email = \"generated_people{rand_int}@gmail.com\".format(rand_int=str(rand_int))\n",
    "            print(email)\n",
    "        doc_ref = db.collection(u'waitlist').document(email)\n",
    "        doc_ref.set({\n",
    "            u'name': user_info['person_name'],\n",
    "            u'referrals': int(user_info['person_referrals']),\n",
    "            u'points': int(user_info['person_points'])\n",
    "        })\n",
    "        points_list[email] = {\"email\": email, \"points\": int(user_info['person_points']), \"name\": user_info['person_name'], \"referrals\": int(user_info['person_referrals'])}\n",
    "        \n",
    "    leaderboard_ref = db.collection(u'metadata').document(u'waitlist').update({\n",
    "        u'leaderboard': points_list\n",
    "    })"
   ]
  },
  {
   "cell_type": "code",
   "execution_count": 5,
   "metadata": {},
   "outputs": [],
   "source": [
    "def write_to_firebase(fake_people_and_their_points):\n",
    "    cache = generate_keys_firebase()\n",
    "    points_dict = {}\n",
    "    for user_info in fake_people_and_their_points:\n",
    "        rand_int = random.randint(1,1000000)\n",
    "        email = \"generated_people{rand_int}@gmail.com\".format(rand_int=str(rand_int))\n",
    "        while email in cache:\n",
    "            rand_int = random.randint(1,1000000)\n",
    "            email = \"generated_people{rand_int}@gmail.com\".format(rand_int=str(rand_int))\n",
    "            print(email)\n",
    "#         doc_ref = db.collection(u'waitlist').document(email)\n",
    "#         doc_ref.set({\n",
    "#             u'name': user_info['person_name'],\n",
    "#             u'referrals': int(user_info['person_referrals']),\n",
    "#             u'points': int(user_info['person_points'])\n",
    "#         })\n",
    "        points_dict[email] = {\"email\": email, \"points\": int(user_info['person_points']), \"name\": user_info['person_name'], \"referrals\": int(user_info['person_referrals'])}\n",
    "        \n",
    "    leaderboard_ref = db.collection(u'metadata').document(u'waitlist').update({\n",
    "        u'leaderboard': points_dict\n",
    "    })"
   ]
  },
  {
   "cell_type": "code",
   "execution_count": 6,
   "metadata": {},
   "outputs": [],
   "source": [
    "def generate_right_skewed_distribution(max_number_referrals):\n",
    "    ''' takes in the ceiling of random referrals (max_number_referrals)\n",
    "    and returns a right-skewed distribution up to max_number_referrals\n",
    "    and its corresponding array. Input a value greater than 2. \n",
    "    '''\n",
    "    pers = np.arange(0,max_number_referrals,1)\n",
    "\n",
    "    prob = [10000] * (0) + [9.0]* (1) + [1.0] * (len(pers) - 1)\n",
    "    prob /= np.sum(prob)\n",
    "    return pers, prob\n"
   ]
  },
  {
   "cell_type": "code",
   "execution_count": 7,
   "metadata": {},
   "outputs": [],
   "source": [
    "def generate_name_with_typo_sometimes(percentage):\n",
    "    '''generate the name with some typos some percentage of the time'''\n",
    "    name = names.get_full_name()\n",
    "    typo_rand = random.randint(1, 100)\n",
    "    if typo_rand <= percentage:\n",
    "        name_len = len(name)\n",
    "        introduce_typo_location = random.randint(0, name_len)\n",
    "        error_type = random.randint(1,2)\n",
    "        if error_type == 1:\n",
    "            first_last = random.randint(1,2)\n",
    "            typo_name = lower_nth(name, first_last)\n",
    "        else:\n",
    "            typo_name = capitalize_nth(name, introduce_typo_location)\n",
    "        return typo_name\n",
    "    return name"
   ]
  },
  {
   "cell_type": "code",
   "execution_count": 8,
   "metadata": {},
   "outputs": [],
   "source": [
    "def lower_nth(s, n):\n",
    "    return s[:n] + s[n:].lower() "
   ]
  },
  {
   "cell_type": "code",
   "execution_count": 9,
   "metadata": {},
   "outputs": [],
   "source": [
    "def capitalize_nth(s, n):\n",
    "    return s[:n] + s[n:].capitalize() "
   ]
  },
  {
   "cell_type": "code",
   "execution_count": 10,
   "metadata": {},
   "outputs": [],
   "source": [
    "def generate_from_names_library(number_gen, max_number_referrals):\n",
    "    '''generate a list of names up to number_gen people with each \n",
    "    referral maxed out at max_number_referrals using the names library\n",
    "    '''\n",
    "    pers, right_distribution = generate_right_skewed_distribution(max_number_referrals)\n",
    "    people = set()\n",
    "    people_referrals = []\n",
    "    \n",
    "    while len(people) != number_gen:\n",
    "        name = generate_name_with_typo_sometimes(80)\n",
    "        if random.randint(0, 10) < 7:\n",
    "            name = name.split(\" \")[0]\n",
    "        people.add(name)            \n",
    "    for person in people:\n",
    "        number = np.random.choice(pers, 1, p=right_distribution)[0]\n",
    "        people_referrals.append((person, number))\n",
    "        \n",
    "    return people_referrals"
   ]
  },
  {
   "cell_type": "code",
   "execution_count": 11,
   "metadata": {},
   "outputs": [],
   "source": [
    "def generate_from_names_product_hunt(number_gen, max_number_referrals):\n",
    "    '''generate a list of names up to number_gen people with each \n",
    "    referral maxed out at max_number_referrals by scraping ProductHunt\n",
    "    '''\n",
    "    \n",
    "    PH = ProductHunt()\n",
    "    makers, hunters = PH.find_makers_and_hunters()\n",
    "    pers, right_distribution = generate_right_skewed_distribution(max_number_referrals)\n",
    "    people = set()\n",
    "    people_referrals = []\n",
    "\n",
    "    people.update(makers)\n",
    "    people.update(hunters)\n",
    "    \n",
    "    while len(people) < number_gen:\n",
    "        name = generate_name_with_typo_sometimes(20)\n",
    "        people.add(name)\n",
    "    \n",
    "    for person in people:\n",
    "        if len(people_referrals) == number_gen:\n",
    "            break\n",
    "        number = np.random.choice(pers, 1, p = right_distribution)[0]\n",
    "        people_referrals.append((person, number))\n",
    "        \n",
    "    return people_referrals\n",
    "        "
   ]
  },
  {
   "cell_type": "code",
   "execution_count": 12,
   "metadata": {},
   "outputs": [],
   "source": [
    "def generate_fake_points_people(people_referrals):\n",
    "    '''\n",
    "    takes in a tuples of (names, referrals) and generates their \n",
    "    point allocation\n",
    "    '''\n",
    "    \n",
    "    all_peoples_data = []\n",
    "    for people_referral in people_referrals:\n",
    "#         pers, distribution = generate_fake_points_distribution(people_referral[1], max_points)\n",
    "#         number = np.random.choice(pers, 1, p = distribution)[0]\n",
    "        name = people_referral[0]\n",
    "        num_referrals = people_referral[1]\n",
    "        points = num_referrals * 100 + 50\n",
    "        person_data = {\n",
    "            'person_name': name,\n",
    "            'person_referrals': num_referrals,\n",
    "            'person_points': points + np.random.normal(20, 8, 1)[0]\n",
    "        }\n",
    "        all_peoples_data.append(person_data)\n",
    "        \n",
    "    return all_peoples_data"
   ]
  },
  {
   "cell_type": "code",
   "execution_count": 15,
   "metadata": {},
   "outputs": [
    {
     "name": "stdout",
     "output_type": "stream",
     "text": [
      "done\n"
     ]
    }
   ],
   "source": [
    "# print(\"generating refs\")\n",
    "# refs = generate_from_names_library(5007, 15)\n",
    "# print(\"generating people\")\n",
    "# fake_people = generate_fake_points_people(refs)\n",
    "# print(\"writing\")\n",
    "write_to_firebase(fake_people[0:1000])\n",
    "print(\"done\")"
   ]
  },
  {
   "cell_type": "code",
   "execution_count": 26,
   "metadata": {},
   "outputs": [
    {
     "ename": "AttributeError",
     "evalue": "module 'firebase_admin.firestore' has no attribute 'fieldValue'",
     "output_type": "error",
     "traceback": [
      "\u001b[1;31m---------------------------------------------------------------------------\u001b[0m",
      "\u001b[1;31mAttributeError\u001b[0m                            Traceback (most recent call last)",
      "\u001b[1;32m<ipython-input-26-fd55d16f8859>\u001b[0m in \u001b[0;36m<module>\u001b[1;34m\u001b[0m\n\u001b[0;32m      2\u001b[0m \u001b[1;33m\u001b[0m\u001b[0m\n\u001b[0;32m      3\u001b[0m db.collection(u'metadata').document(u'waitlist').update(\n\u001b[1;32m----> 4\u001b[1;33m   \u001b[1;34m'leaderboard'\u001b[0m\u001b[1;33m,\u001b[0m \u001b[0mfirestore\u001b[0m\u001b[1;33m.\u001b[0m\u001b[0mfieldValue\u001b[0m\u001b[1;33m.\u001b[0m\u001b[0marrayUnion\u001b[0m\u001b[1;33m(\u001b[0m\u001b[1;33m{\u001b[0m\u001b[1;34m\"email\"\u001b[0m\u001b[1;33m:\u001b[0m \u001b[1;34m\"new_email\"\u001b[0m\u001b[1;33m,\u001b[0m \u001b[1;34m\"points\"\u001b[0m\u001b[1;33m:\u001b[0m \u001b[1;36m100\u001b[0m\u001b[1;33m}\u001b[0m\u001b[1;33m)\u001b[0m\u001b[1;33m\u001b[0m\u001b[1;33m\u001b[0m\u001b[0m\n\u001b[0m\u001b[0;32m      5\u001b[0m )\n",
      "\u001b[1;31mAttributeError\u001b[0m: module 'firebase_admin.firestore' has no attribute 'fieldValue'"
     ]
    }
   ],
   "source": [
    "from firebase_admin import firestore\n",
    "\n",
    "db.collection(u'metadata').document(u'waitlist').update(\n",
    "  'leaderboard', Firestore.FieldValue.arrayUnion({\"email\": \"new_email\", \"points\": 100})\n",
    ")"
   ]
  }
 ],
 "metadata": {
  "kernelspec": {
   "display_name": "Python 3",
   "language": "python",
   "name": "python3"
  },
  "language_info": {
   "codemirror_mode": {
    "name": "ipython",
    "version": 3
   },
   "file_extension": ".py",
   "mimetype": "text/x-python",
   "name": "python",
   "nbconvert_exporter": "python",
   "pygments_lexer": "ipython3",
   "version": "3.8.5"
  }
 },
 "nbformat": 4,
 "nbformat_minor": 4
}

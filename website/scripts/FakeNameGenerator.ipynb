{
 "cells": [
  {
   "cell_type": "code",
<<<<<<< HEAD
   "execution_count": 4,
=======
   "execution_count": 5,
>>>>>>> 07051b3... add functionality to write to firebase
   "metadata": {},
   "outputs": [],
   "source": [
    "import names\n",
    "import numpy as np\n",
    "from ProductHuntScraper import ProductHunt\n",
    "import firebase_admin\n",
    "from firebase_admin import credentials\n",
    "from firebase_admin import firestore"
   ]
  },
  {
   "cell_type": "code",
<<<<<<< HEAD
   "execution_count": 5,
=======
   "execution_count": 51,
   "metadata": {},
   "outputs": [],
   "source": [
    "def initialize_db():\n",
    "    cred = credentials.Certificate(\"new-website-development-700a8-firebase-adminsdk-ksuku-b5efd6ffb3.json\")\n",
    "    firebase_admin.initialize_app(cred)\n",
    "    db = firestore.client()\n",
    "    return db"
   ]
  },
  {
   "cell_type": "code",
   "execution_count": 52,
   "metadata": {},
   "outputs": [
    {
     "ename": "ValueError",
     "evalue": "The default Firebase app already exists. This means you called initialize_app() more than once without providing an app name as the second argument. In most cases you only need to call initialize_app() once. But if you do want to initialize multiple apps, pass a second argument to initialize_app() to give each app a unique name.",
     "output_type": "error",
     "traceback": [
      "\u001b[0;31m---------------------------------------------------------------------------\u001b[0m",
      "\u001b[0;31mValueError\u001b[0m                                Traceback (most recent call last)",
      "\u001b[0;32m<ipython-input-52-e90931c9d8c2>\u001b[0m in \u001b[0;36m<module>\u001b[0;34m\u001b[0m\n\u001b[0;32m----> 1\u001b[0;31m \u001b[0mdb\u001b[0m \u001b[0;34m=\u001b[0m \u001b[0minitialize_db\u001b[0m\u001b[0;34m(\u001b[0m\u001b[0;34m)\u001b[0m\u001b[0;34m\u001b[0m\u001b[0;34m\u001b[0m\u001b[0m\n\u001b[0m",
      "\u001b[0;32m<ipython-input-51-22f691ee9db1>\u001b[0m in \u001b[0;36minitialize_db\u001b[0;34m()\u001b[0m\n\u001b[1;32m      1\u001b[0m \u001b[0;32mdef\u001b[0m \u001b[0minitialize_db\u001b[0m\u001b[0;34m(\u001b[0m\u001b[0;34m)\u001b[0m\u001b[0;34m:\u001b[0m\u001b[0;34m\u001b[0m\u001b[0;34m\u001b[0m\u001b[0m\n\u001b[1;32m      2\u001b[0m     \u001b[0mcred\u001b[0m \u001b[0;34m=\u001b[0m \u001b[0mcredentials\u001b[0m\u001b[0;34m.\u001b[0m\u001b[0mCertificate\u001b[0m\u001b[0;34m(\u001b[0m\u001b[0;34m\"new-website-development-700a8-firebase-adminsdk-ksuku-b5efd6ffb3.json\"\u001b[0m\u001b[0;34m)\u001b[0m\u001b[0;34m\u001b[0m\u001b[0;34m\u001b[0m\u001b[0m\n\u001b[0;32m----> 3\u001b[0;31m     \u001b[0mfirebase_admin\u001b[0m\u001b[0;34m.\u001b[0m\u001b[0minitialize_app\u001b[0m\u001b[0;34m(\u001b[0m\u001b[0mcred\u001b[0m\u001b[0;34m)\u001b[0m\u001b[0;34m\u001b[0m\u001b[0;34m\u001b[0m\u001b[0m\n\u001b[0m\u001b[1;32m      4\u001b[0m     \u001b[0mdb\u001b[0m \u001b[0;34m=\u001b[0m \u001b[0mfirestore\u001b[0m\u001b[0;34m.\u001b[0m\u001b[0mclient\u001b[0m\u001b[0;34m(\u001b[0m\u001b[0;34m)\u001b[0m\u001b[0;34m\u001b[0m\u001b[0;34m\u001b[0m\u001b[0m\n\u001b[1;32m      5\u001b[0m     \u001b[0;32mreturn\u001b[0m \u001b[0mdb\u001b[0m\u001b[0;34m\u001b[0m\u001b[0;34m\u001b[0m\u001b[0m\n",
      "\u001b[0;32m/usr/local/lib/python3.7/site-packages/firebase_admin/__init__.py\u001b[0m in \u001b[0;36minitialize_app\u001b[0;34m(credential, options, name)\u001b[0m\n\u001b[1;32m     70\u001b[0m     \u001b[0;32mif\u001b[0m \u001b[0mname\u001b[0m \u001b[0;34m==\u001b[0m \u001b[0m_DEFAULT_APP_NAME\u001b[0m\u001b[0;34m:\u001b[0m\u001b[0;34m\u001b[0m\u001b[0;34m\u001b[0m\u001b[0m\n\u001b[1;32m     71\u001b[0m         raise ValueError((\n\u001b[0;32m---> 72\u001b[0;31m             \u001b[0;34m'The default Firebase app already exists. This means you called '\u001b[0m\u001b[0;34m\u001b[0m\u001b[0;34m\u001b[0m\u001b[0m\n\u001b[0m\u001b[1;32m     73\u001b[0m             \u001b[0;34m'initialize_app() more than once without providing an app name as '\u001b[0m\u001b[0;34m\u001b[0m\u001b[0;34m\u001b[0m\u001b[0m\n\u001b[1;32m     74\u001b[0m             \u001b[0;34m'the second argument. In most cases you only need to call '\u001b[0m\u001b[0;34m\u001b[0m\u001b[0;34m\u001b[0m\u001b[0m\n",
      "\u001b[0;31mValueError\u001b[0m: The default Firebase app already exists. This means you called initialize_app() more than once without providing an app name as the second argument. In most cases you only need to call initialize_app() once. But if you do want to initialize multiple apps, pass a second argument to initialize_app() to give each app a unique name."
     ]
    }
   ],
   "source": [
    "db = initialize_db()"
   ]
  },
  {
   "cell_type": "code",
   "execution_count": 53,
   "metadata": {},
   "outputs": [],
   "source": [
    "def generate_keys_firebase():\n",
    "    users_ref = db.collection(u'waitlist')\n",
    "    docs = users_ref.stream()\n",
    "    cache = {}\n",
    "    for doc in docs:\n",
    "        cache[doc.id] = 1\n",
    "    return cache"
   ]
  },
  {
   "cell_type": "code",
   "execution_count": 54,
   "metadata": {},
   "outputs": [
    {
     "data": {
      "text/plain": [
       "{'asdf@gmailasdf': 1,\n",
       " 'asdf@gmaiodsf': 1,\n",
       " 'asdf@yahoo.,comn': 1,\n",
       " 'asdfaf@gmaiolasdf': 1,\n",
       " 'asdfasdf@gma': 1,\n",
       " 'asf@7aasdf': 1,\n",
       " 'cidney+test@fractalcomputers.com': 1,\n",
       " 'cidney.weng@gmail.com': 1,\n",
       " 'cidney@fractalcomputers.com': 1,\n",
       " 'cidneyweng@berkeley.edu': 1,\n",
       " 'generated_people@gmail.com': 1,\n",
       " 'gtaube@marketrecognition.com': 1,\n",
       " 'max@gmail.com': 1,\n",
       " 'ming+new@gmail.org': 1,\n",
       " 'ming@fractalcomputers.com': 1,\n",
       " 'ming@gmail.com': 1,\n",
       " 'ming_best@fractalcomputers.com': 1,\n",
       " 'ming_new_random@gmail.com': 1,\n",
       " 'ming_ying@college.harvard.edu': 1,\n",
       " 'mingying2011@gmail.com': 1,\n",
       " 'my_freidn@gmail.com': 1,\n",
       " 'new123@gmail.com': 1,\n",
       " 'new@gmail.com': 1,\n",
       " 'new@gmail.comcc': 1,\n",
       " 'new_test@yahoo.com': 1,\n",
       " 'nwe@7asdf': 1,\n",
       " 'test123@gmail.com': 1,\n",
       " 'test2@test.com': 1,\n",
       " 'test3@test.com': 1,\n",
       " 'test4@test.com': 1,\n",
       " 'test5@test.com': 1,\n",
       " 'test6@test.com': 1,\n",
       " 'test7@test.com': 1,\n",
       " 'test88@gmail.com': 1,\n",
       " 'test@test.com': 1,\n",
       " 'testt@test.com': 1,\n",
       " 'u@b.com': 1,\n",
       " 'yahoo@gamilc.om': 1}"
      ]
     },
     "execution_count": 54,
     "metadata": {},
     "output_type": "execute_result"
    }
   ],
   "source": [
    "cache"
   ]
  },
  {
   "cell_type": "code",
   "execution_count": 46,
   "metadata": {},
   "outputs": [],
   "source": [
    "def write_to_firebase(fake_people_and_their_points):\n",
    "    cache = generate_keys_firebase()\n",
    "    for user_info in fake_people_and_their_points:\n",
    "        string = 'generated_people@gmail.com'\n",
    "        while string in cache:\n",
    "            rand_int = random.randint(1,1000000)\n",
    "            string = 'generated_people%d@gmail.com' %(rand_int)\n",
    "        doc_ref = db.collection(u'waitlist').document(string)\n",
    "        print(user_info)\n",
    "        doc_ref.set({\n",
    "            u'name': user_info['person_name'],\n",
    "            u'referrals': int(user_info['person_referrals']),\n",
    "            u'points': int(user_info['person_points']),\n",
    "        })"
   ]
  },
  {
   "cell_type": "code",
   "execution_count": 49,
   "metadata": {},
   "outputs": [
    {
     "name": "stdout",
     "output_type": "stream",
     "text": [
      "{'person_name': 'Darnell Midkiff', 'person_referrals': 1, 'person_points': 1}\n",
      "{'person_name': 'Howard Rivera', 'person_referrals': 1, 'person_points': 1}\n",
      "{'person_name': 'Robert Knotts', 'person_referrals': 1, 'person_points': 1}\n"
     ]
    }
   ],
   "source": [
    "write_to_firebase(fake_people[1:4])"
   ]
  },
  {
   "cell_type": "code",
   "execution_count": 9,
>>>>>>> 07051b3... add functionality to write to firebase
   "metadata": {},
   "outputs": [],
   "source": [
    "def generate_right_skewed_distribution(max_number_referrals):\n",
    "    ''' takes in the ceiling of random referrals (max_number_referrals)\n",
    "    and returns a right-skewed distribution up to max_number_referrals\n",
    "    and its corresponding array. \n",
    "    '''\n",
    "    pers = np.arange(1,max_number_referrals,1)\n",
    "    prob = [1000] * (2) + [90.0]* (5) + [1.0] * (len(pers) - 7)\n",
    "    prob /= np.sum(prob)\n",
    "    \n",
    "    return pers, prob"
   ]
  },
  {
   "cell_type": "code",
   "execution_count": 10,
   "metadata": {},
   "outputs": [],
   "source": [
    "def generate_from_names_library(number_gen, max_number_referrals):\n",
    "    '''generate a list of names up to number_gen people with each \n",
    "    referral maxed out at max_number_referrals using the names library\n",
    "    '''\n",
    "    pers, right_distribution = generate_right_skewed_distribution(max_number_referrals)\n",
    "    people = set()\n",
    "    people_referrals = []\n",
    "    \n",
    "    while len(people) != number_gen:\n",
    "        people.add(names.get_full_name())\n",
    "    for person in people:\n",
    "        number = np.random.choice(pers, 1, p=right_distribution)[0]\n",
    "        people_referrals.append((person, number))\n",
    "        \n",
    "    return people_referrals"
   ]
  },
  {
   "cell_type": "code",
   "execution_count": 11,
   "metadata": {},
   "outputs": [],
   "source": [
    "def generate_from_names_product_hunt(number_gen, max_number_referrals):\n",
    "    '''generate a list of names up to number_gen people with each \n",
    "    referral maxed out at max_number_referrals by scraping ProductHunt\n",
    "    '''\n",
    "    \n",
    "    PH = ProductHunt()\n",
    "    makers, hunters = PH.find_makers_and_hunters()\n",
    "    pers, right_distribution = generate_right_skewed_distribution(max_number_referrals)\n",
    "    people = set()\n",
    "    people_referrals = []\n",
    "\n",
    "    people.update(makers)\n",
    "    people.update(hunters)\n",
    "    \n",
    "    while len(people) < number_gen:\n",
    "        people.add(names.get_full_name())\n",
    "    \n",
    "    \n",
    "    for person in people:\n",
    "        if len(people_referrals) == number_gen:\n",
    "            break\n",
    "        number = np.random.choice(pers, 1, p = right_distribution)[0]\n",
    "        people_referrals.append((person, number))\n",
    "        \n",
    "    return people_referrals\n",
    "        "
   ]
  },
  {
   "cell_type": "code",
   "execution_count": 12,
   "metadata": {},
   "outputs": [],
   "source": [
    "def generate_skewed_points_distribution(referrals, max_points):\n",
    "    pers = np.arange(1,max_points,1)\n",
    "    prob = [10000] * (2) + [9.0]* (12) + [1.0] * (len(pers) - 14)\n",
    "    prob /= np.sum(prob)\n",
    "    \n",
    "    return pers, prob"
   ]
  },
  {
   "cell_type": "code",
   "execution_count": 13,
   "metadata": {},
   "outputs": [],
   "source": [
    "def generate_fake_points_distribution(num_referrals):\n",
    "    '''takes in the ceiling of 100 points and based \n",
    "    off the number of referrals one has, generate a distribution that \n",
    "    determines how skewed the distribution is. \n",
    "    '''\n",
    "    pers = np.arange(1,100,1)\n",
    "    prob = [10000] * (2) + [9.0 * num_referrals]* (12) + [1.0*num_referrals] * (len(pers) - 14)\n",
    "    prob /= np.sum(prob)\n",
    "    \n",
    "    return pers, prob"
   ]
  },
  {
   "cell_type": "code",
   "execution_count": 10,
   "metadata": {},
   "outputs": [],
   "source": [
    "def generate_fake_points_people(people_referrals):\n",
    "    '''\n",
    "    takes in a tuples of (names, referrals) and generates their \n",
    "    point allocation\n",
    "    '''\n",
    "    for people_referral in people_referrals:\n",
    "        pers, distribution = generate_fake_points_distribution(people_referral[1])\n",
    "        number = np.random.choice(pers, 1, p = distribution)[0]\n",
    "        print('%s and their random point allocation is ' % (people_referral,) + str(number))"
   ]
  },
  {
   "cell_type": "code",
   "execution_count": 16,
   "metadata": {},
   "outputs": [],
   "source": [
    "fake_people = generate_fake_points_people(refs, 4)"
   ]
  },
  {
   "cell_type": "code",
   "execution_count": 17,
   "metadata": {},
   "outputs": [
    {
     "data": {
      "text/plain": [
       "[{'person_name': 'Ronald Hosey', 'person_referrals': 2, 'person_points': 1},\n",
       " {'person_name': 'Darnell Midkiff', 'person_referrals': 1, 'person_points': 1},\n",
       " {'person_name': 'Howard Rivera', 'person_referrals': 1, 'person_points': 1},\n",
       " {'person_name': 'Robert Knotts', 'person_referrals': 1, 'person_points': 1},\n",
       " {'person_name': 'Kelly Person', 'person_referrals': 1, 'person_points': 1},\n",
       " {'person_name': 'Susan Perry', 'person_referrals': 1, 'person_points': 1},\n",
       " {'person_name': 'Matthew Bell', 'person_referrals': 1, 'person_points': 1},\n",
       " {'person_name': 'William Pyles', 'person_referrals': 1, 'person_points': 1},\n",
       " {'person_name': 'Katherine Evans', 'person_referrals': 1, 'person_points': 1},\n",
       " {'person_name': 'Suzan Crisp', 'person_referrals': 1, 'person_points': 1},\n",
       " {'person_name': 'Thomas Dyches', 'person_referrals': 1, 'person_points': 1},\n",
       " {'person_name': 'Janis Guthrie', 'person_referrals': 1, 'person_points': 1},\n",
       " {'person_name': 'Ruth Montgomery', 'person_referrals': 1, 'person_points': 1},\n",
       " {'person_name': 'James Bowdle', 'person_referrals': 1, 'person_points': 1},\n",
       " {'person_name': 'Louise Terrill', 'person_referrals': 1, 'person_points': 1},\n",
       " {'person_name': 'Etta Maguire', 'person_referrals': 1, 'person_points': 1},\n",
       " {'person_name': 'Emily Gallagher', 'person_referrals': 1, 'person_points': 1},\n",
       " {'person_name': 'Fern Carter', 'person_referrals': 2, 'person_points': 1},\n",
       " {'person_name': 'Susan Steffen', 'person_referrals': 1, 'person_points': 1},\n",
       " {'person_name': 'Samuel Brown', 'person_referrals': 2, 'person_points': 1},\n",
       " {'person_name': 'Karen Boyd', 'person_referrals': 1, 'person_points': 1},\n",
       " {'person_name': 'Michael Swales', 'person_referrals': 1, 'person_points': 1},\n",
       " {'person_name': 'John Cook', 'person_referrals': 1, 'person_points': 1},\n",
       " {'person_name': 'Donald Burkhart', 'person_referrals': 1, 'person_points': 1},\n",
       " {'person_name': 'Marilyn Morton', 'person_referrals': 1, 'person_points': 1},\n",
       " {'person_name': 'Teresa Riley', 'person_referrals': 1, 'person_points': 1},\n",
       " {'person_name': 'Michael Smith', 'person_referrals': 1, 'person_points': 1},\n",
       " {'person_name': 'Joy Millan', 'person_referrals': 1, 'person_points': 1},\n",
       " {'person_name': 'Silvia Carroll', 'person_referrals': 1, 'person_points': 1},\n",
       " {'person_name': 'Charles Gray', 'person_referrals': 1, 'person_points': 1},\n",
       " {'person_name': 'Jeffry Hensley', 'person_referrals': 1, 'person_points': 1},\n",
       " {'person_name': 'Jeffrey Hamby', 'person_referrals': 1, 'person_points': 1},\n",
       " {'person_name': 'Lisa Murphy', 'person_referrals': 1, 'person_points': 1},\n",
       " {'person_name': 'Janise Montz', 'person_referrals': 1, 'person_points': 1},\n",
       " {'person_name': 'Jason Montgomery',\n",
       "  'person_referrals': 1,\n",
       "  'person_points': 1},\n",
       " {'person_name': 'Heather Henry', 'person_referrals': 1, 'person_points': 1},\n",
       " {'person_name': 'Linda Hartranft', 'person_referrals': 1, 'person_points': 1},\n",
       " {'person_name': 'Rosalie Anton', 'person_referrals': 1, 'person_points': 1},\n",
       " {'person_name': 'Jose Dixon', 'person_referrals': 1, 'person_points': 1},\n",
       " {'person_name': 'Angel Richard', 'person_referrals': 1, 'person_points': 1},\n",
       " {'person_name': 'Pamela Wells', 'person_referrals': 1, 'person_points': 1},\n",
       " {'person_name': 'Sondra Gaitan', 'person_referrals': 1, 'person_points': 1},\n",
       " {'person_name': 'Victoria Pugh', 'person_referrals': 1, 'person_points': 1},\n",
       " {'person_name': 'Lula Clark', 'person_referrals': 1, 'person_points': 1},\n",
       " {'person_name': 'Lula Cox', 'person_referrals': 1, 'person_points': 1},\n",
       " {'person_name': 'David Headrick', 'person_referrals': 1, 'person_points': 1},\n",
       " {'person_name': 'Jamie Tarvin', 'person_referrals': 1, 'person_points': 1},\n",
       " {'person_name': 'Brett Buckingham',\n",
       "  'person_referrals': 1,\n",
       "  'person_points': 1},\n",
       " {'person_name': 'Clay Gutierrez', 'person_referrals': 1, 'person_points': 1},\n",
       " {'person_name': 'Joseph Jones', 'person_referrals': 1, 'person_points': 1},\n",
       " {'person_name': 'Jacqueline Little',\n",
       "  'person_referrals': 1,\n",
       "  'person_points': 1},\n",
       " {'person_name': 'Tammara Bowman', 'person_referrals': 1, 'person_points': 1},\n",
       " {'person_name': 'Sam Brockway', 'person_referrals': 1, 'person_points': 1},\n",
       " {'person_name': 'Mark Stilson', 'person_referrals': 1, 'person_points': 1},\n",
       " {'person_name': 'Marianne Duhart', 'person_referrals': 1, 'person_points': 1},\n",
       " {'person_name': 'Ian Evans', 'person_referrals': 1, 'person_points': 1},\n",
       " {'person_name': 'Charles Bechtel', 'person_referrals': 1, 'person_points': 1},\n",
       " {'person_name': 'Nancy Gould', 'person_referrals': 1, 'person_points': 1},\n",
       " {'person_name': 'Kelly Ohara', 'person_referrals': 1, 'person_points': 1},\n",
       " {'person_name': 'Willard Kline', 'person_referrals': 1, 'person_points': 1},\n",
       " {'person_name': 'Ebony Kats', 'person_referrals': 1, 'person_points': 1},\n",
       " {'person_name': 'Troy Bentley', 'person_referrals': 1, 'person_points': 1},\n",
       " {'person_name': 'Bruce Moran', 'person_referrals': 1, 'person_points': 1},\n",
       " {'person_name': 'Diane Swingle', 'person_referrals': 2, 'person_points': 1},\n",
       " {'person_name': 'Joan Mistrot', 'person_referrals': 1, 'person_points': 1},\n",
       " {'person_name': 'Leslie Catano', 'person_referrals': 1, 'person_points': 1},\n",
       " {'person_name': 'Jason Scott', 'person_referrals': 1, 'person_points': 1},\n",
       " {'person_name': 'Charles Berry', 'person_referrals': 1, 'person_points': 1},\n",
       " {'person_name': 'Tanya Tucker', 'person_referrals': 1, 'person_points': 1},\n",
       " {'person_name': 'Bryan Torres', 'person_referrals': 1, 'person_points': 1},\n",
       " {'person_name': 'Melvin Gilbreath',\n",
       "  'person_referrals': 1,\n",
       "  'person_points': 1},\n",
       " {'person_name': 'Linda Ouellette', 'person_referrals': 1, 'person_points': 1},\n",
       " {'person_name': 'David Styles', 'person_referrals': 1, 'person_points': 1},\n",
       " {'person_name': 'Michael Battey', 'person_referrals': 1, 'person_points': 1},\n",
       " {'person_name': 'Carol Merrithew', 'person_referrals': 1, 'person_points': 1},\n",
       " {'person_name': 'Rose Ray', 'person_referrals': 1, 'person_points': 1},\n",
       " {'person_name': 'Andrew Harvey', 'person_referrals': 1, 'person_points': 1},\n",
       " {'person_name': 'Anna Pierce', 'person_referrals': 1, 'person_points': 1},\n",
       " {'person_name': 'Nancy Valencia', 'person_referrals': 1, 'person_points': 1},\n",
       " {'person_name': 'Michael Tobe', 'person_referrals': 1, 'person_points': 1},\n",
       " {'person_name': 'Richard Hayner', 'person_referrals': 1, 'person_points': 1},\n",
       " {'person_name': 'Denise Bauer', 'person_referrals': 1, 'person_points': 1},\n",
       " {'person_name': 'Monica Sanders', 'person_referrals': 1, 'person_points': 1},\n",
       " {'person_name': 'Cory Sonnier', 'person_referrals': 1, 'person_points': 1},\n",
       " {'person_name': 'Kathleen Dooley', 'person_referrals': 1, 'person_points': 1},\n",
       " {'person_name': 'James Bennett', 'person_referrals': 1, 'person_points': 1},\n",
       " {'person_name': 'Curtis Herren', 'person_referrals': 1, 'person_points': 1},\n",
       " {'person_name': 'Nicole Debo', 'person_referrals': 1, 'person_points': 1},\n",
       " {'person_name': 'Mitchell Winn', 'person_referrals': 1, 'person_points': 1},\n",
       " {'person_name': 'Rosalie Sherer', 'person_referrals': 1, 'person_points': 1},\n",
       " {'person_name': 'Anthony Church', 'person_referrals': 1, 'person_points': 1},\n",
       " {'person_name': 'Gilbert Saddler', 'person_referrals': 1, 'person_points': 1},\n",
       " {'person_name': 'Andrea Sanchez', 'person_referrals': 2, 'person_points': 1},\n",
       " {'person_name': 'Dawn Lipinski', 'person_referrals': 1, 'person_points': 1},\n",
       " {'person_name': 'Nina Taylor', 'person_referrals': 1, 'person_points': 1},\n",
       " {'person_name': 'Lili Lamont', 'person_referrals': 1, 'person_points': 1},\n",
       " {'person_name': 'Wayne Lewandowski',\n",
       "  'person_referrals': 1,\n",
       "  'person_points': 1},\n",
       " {'person_name': 'James Burrows', 'person_referrals': 1, 'person_points': 1},\n",
       " {'person_name': 'Eric Chapin', 'person_referrals': 1, 'person_points': 1},\n",
       " {'person_name': 'Mellisa Hall', 'person_referrals': 1, 'person_points': 1}]"
      ]
     },
     "execution_count": 17,
     "metadata": {},
     "output_type": "execute_result"
    }
   ],
   "source": [
    "fake_people"
   ]
  },
  {
   "cell_type": "code",
   "execution_count": null,
   "metadata": {},
   "outputs": [],
   "source": []
  }
 ],
 "metadata": {
  "kernelspec": {
   "display_name": "Python 3",
   "language": "python",
   "name": "python3"
  },
  "language_info": {
   "codemirror_mode": {
    "name": "ipython",
    "version": 3
   },
   "file_extension": ".py",
   "mimetype": "text/x-python",
   "name": "python",
   "nbconvert_exporter": "python",
   "pygments_lexer": "ipython3",
   "version": "3.8.5"
  }
 },
 "nbformat": 4,
 "nbformat_minor": 4
}

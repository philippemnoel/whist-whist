{
 "cells": [
  {
   "cell_type": "code",
   "execution_count": 1,
   "metadata": {},
   "outputs": [],
   "source": [
    "import names\n",
    "import numpy as np\n",
    "from ProductHuntScraper import ProductHunt"
   ]
  },
  {
   "cell_type": "code",
   "execution_count": 2,
   "metadata": {},
   "outputs": [],
   "source": [
    "def generate_right_skewed_distribution(max_number_referrals):\n",
    "    pers = np.arange(1,max_number_referrals,1)\n",
    "    prob = [1000] * (2) + [90.0]* (12) + [1.0] * (len(pers) - 14)\n",
    "    prob /= np.sum(prob)\n",
    "    \n",
    "    return pers, prob"
   ]
  },
  {
   "cell_type": "code",
   "execution_count": 3,
   "metadata": {},
   "outputs": [],
   "source": [
    "def generate_from_names_library(number_gen, max_number_referrals):\n",
    "    pers, right_distribution = generate_right_skewed_distribution(max_number_referrals)\n",
    "    people = set()\n",
    "    people_referrals = []\n",
    "    \n",
    "    while len(people) != number_gen:\n",
    "        people.add(names.get_full_name())\n",
    "    for person in people:\n",
    "        number = np.random.choice(pers, 1, p=right_distribution)[0]\n",
    "        people_referrals.append((person, number))\n",
    "        \n",
    "    return people_referrals"
   ]
  },
  {
   "cell_type": "code",
   "execution_count": 4,
   "metadata": {},
   "outputs": [],
   "source": [
    "def generate_from_names_product_hunt(number_gen, max_number_referrals):\n",
    "    PH = ProductHunt()\n",
    "    makers, hunters = PH.find_makers_and_hunters()\n",
    "    \n",
    "    pers, right_distribution = generate_right_skewed_distribution(max_number_referrals)\n",
    "    people = set()\n",
    "    people_referrals = []\n",
    "\n",
    "    people.update(makers)\n",
    "    people.update(hunters)\n",
    "    \n",
    "    while len(people) != number_gen:\n",
    "        people.add(names.get_full_name())\n",
    "    \n",
    "    for person in people:\n",
    "        number = np.random.choice(pers, 1, p=right_distribution)[0]\n",
    "        people_referrals.append((person, number))\n",
    "        \n",
    "    return people_referrals\n",
    "        "
   ]
  },
  {
   "cell_type": "code",
   "execution_count": null,
   "metadata": {},
   "outputs": [],
   "source": [
    "def write_to_firebase():\n",
    "    import firebase_admin\n",
    "    from firebase_admin import credentials\n",
    "    from firebase_admin import firestore\n",
    "    \n",
    "    cred = credentials.ApplicationDefault()\n",
    "        firebase_admin.initialize_app(cred, {\n",
    "        'projectId': project_id,\n",
    "    })\n",
    "\n",
    "    db = firestore.client()\n"
   ]
  },
  {
   "cell_type": "code",
   "execution_count": null,
   "metadata": {},
   "outputs": [],
   "source": []
  }
 ],
 "metadata": {
  "kernelspec": {
   "display_name": "Python 3",
   "language": "python",
   "name": "python3"
  },
  "language_info": {
   "codemirror_mode": {
    "name": "ipython",
    "version": 3
   },
   "file_extension": ".py",
   "mimetype": "text/x-python",
   "name": "python",
   "nbconvert_exporter": "python",
   "pygments_lexer": "ipython3",
   "version": "3.7.7"
  }
 },
 "nbformat": 4,
 "nbformat_minor": 4
}

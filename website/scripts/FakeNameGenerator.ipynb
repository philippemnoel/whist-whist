{
 "cells": [
  {
   "cell_type": "code",
   "execution_count": 4,
   "metadata": {},
   "outputs": [],
   "source": [
    "import names\n",
    "import numpy as np\n",
    "from ProductHuntScraper import ProductHunt"
   ]
  },
  {
   "cell_type": "code",
   "execution_count": 5,
   "metadata": {},
   "outputs": [],
   "source": [
    "def generate_right_skewed_distribution(max_number_referrals):\n",
    "    pers = np.arange(1,max_number_referrals,1)\n",
    "    prob = [1000] * (2) + [90.0]* (5) + [1.0] * (len(pers) - 7)\n",
    "    prob /= np.sum(prob)\n",
    "    \n",
    "    return pers, prob"
   ]
  },
  {
   "cell_type": "code",
   "execution_count": 6,
   "metadata": {},
   "outputs": [],
   "source": [
    "def generate_from_names_library(number_gen, max_number_referrals):\n",
    "    pers, right_distribution = generate_right_skewed_distribution(max_number_referrals)\n",
    "    people = set()\n",
    "    people_referrals = []\n",
    "    \n",
    "    while len(people) != number_gen:\n",
    "        people.add(names.get_full_name())\n",
    "    for person in people:\n",
    "        number = np.random.choice(pers, 1, p=right_distribution)[0]\n",
    "        people_referrals.append((person, number))\n",
    "        \n",
    "    return people_referrals"
   ]
  },
  {
   "cell_type": "code",
   "execution_count": 7,
   "metadata": {},
   "outputs": [],
   "source": [
    "def generate_from_names_product_hunt(number_gen, max_number_referrals):\n",
    "    PH = ProductHunt()\n",
    "    makers, hunters = PH.find_makers_and_hunters()\n",
    "    pers, right_distribution = generate_right_skewed_distribution(max_number_referrals)\n",
    "    people = set()\n",
    "    people_referrals = []\n",
    "\n",
    "    people.update(makers)\n",
    "    people.update(hunters)\n",
    "    \n",
    "    while len(people) < number_gen:\n",
    "        people.add(names.get_full_name())\n",
    "    \n",
    "    \n",
    "    for person in people:\n",
    "        if len(people_referrals) == number_gen:\n",
    "            break\n",
    "        number = np.random.choice(pers, 1, p = right_distribution)[0]\n",
    "        people_referrals.append((person, number))\n",
    "        \n",
    "    return people_referrals\n",
    "        "
   ]
  },
  {
   "cell_type": "code",
   "execution_count": 8,
   "metadata": {},
   "outputs": [],
   "source": [
    "def generate_skewed_points_distribution(referrals, max_points):\n",
    "    pers = np.arange(1,max_points,1)\n",
    "    prob = [10000] * (2) + [9.0]* (12) + [1.0] * (len(pers) - 14)\n",
    "    prob /= np.sum(prob)\n",
    "    \n",
    "    return pers, prob"
   ]
  },
  {
   "cell_type": "code",
   "execution_count": 9,
   "metadata": {},
   "outputs": [],
   "source": [
    "def generate_fake_points_distribution(num_referrals):\n",
    "    # max points distributed will be 100\n",
    "    pers = np.arange(1,100,1)\n",
    "    prob = [10000] * (2) + [9.0 * num_referrals]* (12) + [1.0*num_referrals] * (len(pers) - 14)\n",
    "    prob /= np.sum(prob)\n",
    "    \n",
    "    return pers, prob"
   ]
  },
  {
   "cell_type": "code",
   "execution_count": 10,
   "metadata": {},
   "outputs": [],
   "source": [
    "def generate_fake_points_people(people_referrals):\n",
    "    for people_referral in people_referrals:\n",
    "        pers, distribution = generate_fake_points_distribution(people_referral[1])\n",
    "        number = np.random.choice(pers, 1, p = distribution)[0]\n",
    "        print('%s and their random point allocation is ' % (people_referral,) + str(number))"
   ]
  },
  {
   "cell_type": "code",
   "execution_count": 13,
   "metadata": {},
   "outputs": [],
   "source": [
    "names = generate_from_names_library(8000, )"
   ]
  },
  {
   "cell_type": "code",
   "execution_count": null,
   "metadata": {},
   "outputs": [],
   "source": []
  }
 ],
 "metadata": {
  "kernelspec": {
   "display_name": "Python 3",
   "language": "python",
   "name": "python3"
  },
  "language_info": {
   "codemirror_mode": {
    "name": "ipython",
    "version": 3
   },
   "file_extension": ".py",
   "mimetype": "text/x-python",
   "name": "python",
   "nbconvert_exporter": "python",
   "pygments_lexer": "ipython3",
   "version": "3.8.5"
  }
 },
 "nbformat": 4,
 "nbformat_minor": 4
}
